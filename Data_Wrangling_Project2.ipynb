{
 "cells": [
  {
   "cell_type": "code",
   "execution_count": 1,
   "id": "2275db88",
   "metadata": {},
   "outputs": [],
   "source": [
    "import pandas as pd\n",
    "import numpy as np\n",
    "import seaborn as sns \n",
    "import matplotlib.pyplot as plt\n",
    "%matplotlib inline\n",
    "import datetime"
   ]
  },
  {
   "cell_type": "code",
   "execution_count": 2,
   "id": "3acc9f44",
   "metadata": {},
   "outputs": [],
   "source": [
    "data1 = pd.read_csv('dataset_1 - dataset_1.csv')"
   ]
  },
  {
   "cell_type": "code",
   "execution_count": 3,
   "id": "24876c79",
   "metadata": {},
   "outputs": [
    {
     "data": {
      "text/html": [
       "<div>\n",
       "<style scoped>\n",
       "    .dataframe tbody tr th:only-of-type {\n",
       "        vertical-align: middle;\n",
       "    }\n",
       "\n",
       "    .dataframe tbody tr th {\n",
       "        vertical-align: top;\n",
       "    }\n",
       "\n",
       "    .dataframe thead th {\n",
       "        text-align: right;\n",
       "    }\n",
       "</style>\n",
       "<table border=\"1\" class=\"dataframe\">\n",
       "  <thead>\n",
       "    <tr style=\"text-align: right;\">\n",
       "      <th></th>\n",
       "      <th>instant</th>\n",
       "      <th>dteday</th>\n",
       "      <th>season</th>\n",
       "      <th>yr</th>\n",
       "      <th>mnth</th>\n",
       "      <th>hr</th>\n",
       "      <th>holiday</th>\n",
       "      <th>weekday</th>\n",
       "      <th>weathersit</th>\n",
       "      <th>temp</th>\n",
       "    </tr>\n",
       "  </thead>\n",
       "  <tbody>\n",
       "    <tr>\n",
       "      <th>0</th>\n",
       "      <td>1</td>\n",
       "      <td>01-01-2011</td>\n",
       "      <td>1</td>\n",
       "      <td>0</td>\n",
       "      <td>1</td>\n",
       "      <td>0</td>\n",
       "      <td>False</td>\n",
       "      <td>6</td>\n",
       "      <td>1</td>\n",
       "      <td>0.24</td>\n",
       "    </tr>\n",
       "    <tr>\n",
       "      <th>1</th>\n",
       "      <td>2</td>\n",
       "      <td>01-01-2011</td>\n",
       "      <td>1</td>\n",
       "      <td>0</td>\n",
       "      <td>1</td>\n",
       "      <td>1</td>\n",
       "      <td>False</td>\n",
       "      <td>6</td>\n",
       "      <td>1</td>\n",
       "      <td>0.22</td>\n",
       "    </tr>\n",
       "    <tr>\n",
       "      <th>2</th>\n",
       "      <td>3</td>\n",
       "      <td>01-01-2011</td>\n",
       "      <td>1</td>\n",
       "      <td>0</td>\n",
       "      <td>1</td>\n",
       "      <td>2</td>\n",
       "      <td>False</td>\n",
       "      <td>6</td>\n",
       "      <td>1</td>\n",
       "      <td>0.22</td>\n",
       "    </tr>\n",
       "    <tr>\n",
       "      <th>3</th>\n",
       "      <td>4</td>\n",
       "      <td>01-01-2011</td>\n",
       "      <td>1</td>\n",
       "      <td>0</td>\n",
       "      <td>1</td>\n",
       "      <td>3</td>\n",
       "      <td>False</td>\n",
       "      <td>6</td>\n",
       "      <td>1</td>\n",
       "      <td>0.24</td>\n",
       "    </tr>\n",
       "    <tr>\n",
       "      <th>4</th>\n",
       "      <td>5</td>\n",
       "      <td>01-01-2011</td>\n",
       "      <td>1</td>\n",
       "      <td>0</td>\n",
       "      <td>1</td>\n",
       "      <td>4</td>\n",
       "      <td>False</td>\n",
       "      <td>6</td>\n",
       "      <td>1</td>\n",
       "      <td>0.24</td>\n",
       "    </tr>\n",
       "  </tbody>\n",
       "</table>\n",
       "</div>"
      ],
      "text/plain": [
       "   instant      dteday  season  yr  mnth  hr  holiday  weekday  weathersit  \\\n",
       "0        1  01-01-2011       1   0     1   0    False        6           1   \n",
       "1        2  01-01-2011       1   0     1   1    False        6           1   \n",
       "2        3  01-01-2011       1   0     1   2    False        6           1   \n",
       "3        4  01-01-2011       1   0     1   3    False        6           1   \n",
       "4        5  01-01-2011       1   0     1   4    False        6           1   \n",
       "\n",
       "   temp  \n",
       "0  0.24  \n",
       "1  0.22  \n",
       "2  0.22  \n",
       "3  0.24  \n",
       "4  0.24  "
      ]
     },
     "execution_count": 3,
     "metadata": {},
     "output_type": "execute_result"
    }
   ],
   "source": [
    "data1.head()"
   ]
  },
  {
   "cell_type": "code",
   "execution_count": 4,
   "id": "d6da40f6",
   "metadata": {},
   "outputs": [
    {
     "data": {
      "text/plain": [
       "instant       0\n",
       "dteday        0\n",
       "season        0\n",
       "yr            0\n",
       "mnth          0\n",
       "hr            0\n",
       "holiday       0\n",
       "weekday       0\n",
       "weathersit    0\n",
       "temp          0\n",
       "dtype: int64"
      ]
     },
     "execution_count": 4,
     "metadata": {},
     "output_type": "execute_result"
    }
   ],
   "source": [
    "data1.isnull().sum()"
   ]
  },
  {
   "cell_type": "code",
   "execution_count": 5,
   "id": "4d1fd2d9",
   "metadata": {},
   "outputs": [
    {
     "name": "stdout",
     "output_type": "stream",
     "text": [
      "<class 'pandas.core.frame.DataFrame'>\n",
      "RangeIndex: 610 entries, 0 to 609\n",
      "Data columns (total 10 columns):\n",
      " #   Column      Non-Null Count  Dtype  \n",
      "---  ------      --------------  -----  \n",
      " 0   instant     610 non-null    int64  \n",
      " 1   dteday      610 non-null    object \n",
      " 2   season      610 non-null    int64  \n",
      " 3   yr          610 non-null    int64  \n",
      " 4   mnth        610 non-null    int64  \n",
      " 5   hr          610 non-null    int64  \n",
      " 6   holiday     610 non-null    bool   \n",
      " 7   weekday     610 non-null    int64  \n",
      " 8   weathersit  610 non-null    int64  \n",
      " 9   temp        610 non-null    float64\n",
      "dtypes: bool(1), float64(1), int64(7), object(1)\n",
      "memory usage: 43.6+ KB\n"
     ]
    }
   ],
   "source": [
    "data1.info()"
   ]
  },
  {
   "cell_type": "code",
   "execution_count": 6,
   "id": "1956ceee",
   "metadata": {},
   "outputs": [
    {
     "data": {
      "text/plain": [
       "array([1], dtype=int64)"
      ]
     },
     "execution_count": 6,
     "metadata": {},
     "output_type": "execute_result"
    }
   ],
   "source": [
    "data1['season'].unique()"
   ]
  },
  {
   "cell_type": "code",
   "execution_count": 7,
   "id": "96336888",
   "metadata": {},
   "outputs": [
    {
     "data": {
      "text/plain": [
       "array([0], dtype=int64)"
      ]
     },
     "execution_count": 7,
     "metadata": {},
     "output_type": "execute_result"
    }
   ],
   "source": [
    "data1['yr'].unique()"
   ]
  },
  {
   "cell_type": "code",
   "execution_count": 8,
   "id": "605708bf",
   "metadata": {},
   "outputs": [
    {
     "data": {
      "text/plain": [
       "array([1], dtype=int64)"
      ]
     },
     "execution_count": 8,
     "metadata": {},
     "output_type": "execute_result"
    }
   ],
   "source": [
    "data1['mnth'].unique()"
   ]
  },
  {
   "cell_type": "code",
   "execution_count": 9,
   "id": "9c0c659f",
   "metadata": {},
   "outputs": [
    {
     "data": {
      "text/plain": [
       "array([ 0,  1,  2,  3,  4,  5,  6,  7,  8,  9, 10, 11, 12, 13, 14, 15, 16,\n",
       "       17, 18, 19, 20, 21, 22, 23], dtype=int64)"
      ]
     },
     "execution_count": 9,
     "metadata": {},
     "output_type": "execute_result"
    }
   ],
   "source": [
    "data1['hr'].unique()"
   ]
  },
  {
   "cell_type": "code",
   "execution_count": 10,
   "id": "f01329be",
   "metadata": {},
   "outputs": [
    {
     "data": {
      "text/plain": [
       "array([6, 0, 1, 2, 3, 4, 5], dtype=int64)"
      ]
     },
     "execution_count": 10,
     "metadata": {},
     "output_type": "execute_result"
    }
   ],
   "source": [
    "data1['weekday'].unique()"
   ]
  },
  {
   "cell_type": "code",
   "execution_count": 11,
   "id": "35ac0014",
   "metadata": {},
   "outputs": [
    {
     "data": {
      "text/plain": [
       "array([1, 2, 3, 4], dtype=int64)"
      ]
     },
     "execution_count": 11,
     "metadata": {},
     "output_type": "execute_result"
    }
   ],
   "source": [
    "data1['weathersit'].unique()"
   ]
  },
  {
   "cell_type": "code",
   "execution_count": 12,
   "id": "38d2448c",
   "metadata": {},
   "outputs": [
    {
     "data": {
      "text/plain": [
       "array([0.24, 0.22, 0.2 , 0.32, 0.38, 0.36, 0.42, 0.46, 0.44, 0.4 , 0.34,\n",
       "       0.3 , 0.26, 0.16, 0.14, 0.18, 0.12, 0.28, 0.1 , 0.08, 0.06, 0.04,\n",
       "       0.02])"
      ]
     },
     "execution_count": 12,
     "metadata": {},
     "output_type": "execute_result"
    }
   ],
   "source": [
    "data1['temp'].unique()"
   ]
  },
  {
   "cell_type": "code",
   "execution_count": 13,
   "id": "720394f3",
   "metadata": {},
   "outputs": [
    {
     "data": {
      "text/plain": [
       "array([False,  True])"
      ]
     },
     "execution_count": 13,
     "metadata": {},
     "output_type": "execute_result"
    }
   ],
   "source": [
    "data1['holiday'].unique()"
   ]
  },
  {
   "cell_type": "code",
   "execution_count": 14,
   "id": "99c2ffa5",
   "metadata": {},
   "outputs": [
    {
     "data": {
      "text/plain": [
       "holiday\n",
       "False    586\n",
       "True      24\n",
       "Name: count, dtype: int64"
      ]
     },
     "execution_count": 14,
     "metadata": {},
     "output_type": "execute_result"
    }
   ],
   "source": [
    "data1['holiday'].value_counts()"
   ]
  },
  {
   "cell_type": "code",
   "execution_count": 15,
   "id": "daaf0a00",
   "metadata": {},
   "outputs": [],
   "source": [
    "data1['holiday'] = data1['holiday'].astype('int')"
   ]
  },
  {
   "cell_type": "code",
   "execution_count": 16,
   "id": "6bde1753",
   "metadata": {},
   "outputs": [],
   "source": [
    "data1['holiday'].replace({'True' : '1','False' : '0'},inplace = True)"
   ]
  },
  {
   "cell_type": "code",
   "execution_count": 17,
   "id": "8e9bd1a1",
   "metadata": {},
   "outputs": [
    {
     "data": {
      "text/plain": [
       "holiday\n",
       "0    586\n",
       "1     24\n",
       "Name: count, dtype: int64"
      ]
     },
     "execution_count": 17,
     "metadata": {},
     "output_type": "execute_result"
    }
   ],
   "source": [
    "data1['holiday'].value_counts()"
   ]
  },
  {
   "cell_type": "code",
   "execution_count": 18,
   "id": "bd77d2a2",
   "metadata": {},
   "outputs": [
    {
     "data": {
      "text/html": [
       "<div>\n",
       "<style scoped>\n",
       "    .dataframe tbody tr th:only-of-type {\n",
       "        vertical-align: middle;\n",
       "    }\n",
       "\n",
       "    .dataframe tbody tr th {\n",
       "        vertical-align: top;\n",
       "    }\n",
       "\n",
       "    .dataframe thead th {\n",
       "        text-align: right;\n",
       "    }\n",
       "</style>\n",
       "<table border=\"1\" class=\"dataframe\">\n",
       "  <thead>\n",
       "    <tr style=\"text-align: right;\">\n",
       "      <th></th>\n",
       "      <th>instant</th>\n",
       "      <th>dteday</th>\n",
       "      <th>season</th>\n",
       "      <th>yr</th>\n",
       "      <th>mnth</th>\n",
       "      <th>hr</th>\n",
       "      <th>holiday</th>\n",
       "      <th>weekday</th>\n",
       "      <th>weathersit</th>\n",
       "      <th>temp</th>\n",
       "    </tr>\n",
       "  </thead>\n",
       "  <tbody>\n",
       "    <tr>\n",
       "      <th>0</th>\n",
       "      <td>1</td>\n",
       "      <td>01-01-2011</td>\n",
       "      <td>1</td>\n",
       "      <td>0</td>\n",
       "      <td>1</td>\n",
       "      <td>0</td>\n",
       "      <td>0</td>\n",
       "      <td>6</td>\n",
       "      <td>1</td>\n",
       "      <td>0.24</td>\n",
       "    </tr>\n",
       "    <tr>\n",
       "      <th>1</th>\n",
       "      <td>2</td>\n",
       "      <td>01-01-2011</td>\n",
       "      <td>1</td>\n",
       "      <td>0</td>\n",
       "      <td>1</td>\n",
       "      <td>1</td>\n",
       "      <td>0</td>\n",
       "      <td>6</td>\n",
       "      <td>1</td>\n",
       "      <td>0.22</td>\n",
       "    </tr>\n",
       "    <tr>\n",
       "      <th>2</th>\n",
       "      <td>3</td>\n",
       "      <td>01-01-2011</td>\n",
       "      <td>1</td>\n",
       "      <td>0</td>\n",
       "      <td>1</td>\n",
       "      <td>2</td>\n",
       "      <td>0</td>\n",
       "      <td>6</td>\n",
       "      <td>1</td>\n",
       "      <td>0.22</td>\n",
       "    </tr>\n",
       "    <tr>\n",
       "      <th>3</th>\n",
       "      <td>4</td>\n",
       "      <td>01-01-2011</td>\n",
       "      <td>1</td>\n",
       "      <td>0</td>\n",
       "      <td>1</td>\n",
       "      <td>3</td>\n",
       "      <td>0</td>\n",
       "      <td>6</td>\n",
       "      <td>1</td>\n",
       "      <td>0.24</td>\n",
       "    </tr>\n",
       "    <tr>\n",
       "      <th>4</th>\n",
       "      <td>5</td>\n",
       "      <td>01-01-2011</td>\n",
       "      <td>1</td>\n",
       "      <td>0</td>\n",
       "      <td>1</td>\n",
       "      <td>4</td>\n",
       "      <td>0</td>\n",
       "      <td>6</td>\n",
       "      <td>1</td>\n",
       "      <td>0.24</td>\n",
       "    </tr>\n",
       "  </tbody>\n",
       "</table>\n",
       "</div>"
      ],
      "text/plain": [
       "   instant      dteday  season  yr  mnth  hr  holiday  weekday  weathersit  \\\n",
       "0        1  01-01-2011       1   0     1   0        0        6           1   \n",
       "1        2  01-01-2011       1   0     1   1        0        6           1   \n",
       "2        3  01-01-2011       1   0     1   2        0        6           1   \n",
       "3        4  01-01-2011       1   0     1   3        0        6           1   \n",
       "4        5  01-01-2011       1   0     1   4        0        6           1   \n",
       "\n",
       "   temp  \n",
       "0  0.24  \n",
       "1  0.22  \n",
       "2  0.22  \n",
       "3  0.24  \n",
       "4  0.24  "
      ]
     },
     "execution_count": 18,
     "metadata": {},
     "output_type": "execute_result"
    }
   ],
   "source": [
    "data1.head()"
   ]
  },
  {
   "cell_type": "code",
   "execution_count": 19,
   "id": "75623ad0",
   "metadata": {},
   "outputs": [
    {
     "data": {
      "text/plain": [
       "instant         int64\n",
       "dteday         object\n",
       "season          int64\n",
       "yr              int64\n",
       "mnth            int64\n",
       "hr              int64\n",
       "holiday         int32\n",
       "weekday         int64\n",
       "weathersit      int64\n",
       "temp          float64\n",
       "dtype: object"
      ]
     },
     "execution_count": 19,
     "metadata": {},
     "output_type": "execute_result"
    }
   ],
   "source": [
    "data1.dtypes"
   ]
  },
  {
   "cell_type": "code",
   "execution_count": 20,
   "id": "c237ecab",
   "metadata": {},
   "outputs": [],
   "source": [
    "data1['dteday'] = pd.to_datetime(data1['dteday'],format = '%d-%m-%Y')"
   ]
  },
  {
   "cell_type": "code",
   "execution_count": 21,
   "id": "228535b0",
   "metadata": {},
   "outputs": [],
   "source": [
    "data1['dteday'] = data1['dteday'].dt.strftime('%Y%m%d').astype(int)"
   ]
  },
  {
   "cell_type": "code",
   "execution_count": 22,
   "id": "474f1bad",
   "metadata": {},
   "outputs": [
    {
     "data": {
      "text/html": [
       "<div>\n",
       "<style scoped>\n",
       "    .dataframe tbody tr th:only-of-type {\n",
       "        vertical-align: middle;\n",
       "    }\n",
       "\n",
       "    .dataframe tbody tr th {\n",
       "        vertical-align: top;\n",
       "    }\n",
       "\n",
       "    .dataframe thead th {\n",
       "        text-align: right;\n",
       "    }\n",
       "</style>\n",
       "<table border=\"1\" class=\"dataframe\">\n",
       "  <thead>\n",
       "    <tr style=\"text-align: right;\">\n",
       "      <th></th>\n",
       "      <th>instant</th>\n",
       "      <th>dteday</th>\n",
       "      <th>season</th>\n",
       "      <th>yr</th>\n",
       "      <th>mnth</th>\n",
       "      <th>hr</th>\n",
       "      <th>holiday</th>\n",
       "      <th>weekday</th>\n",
       "      <th>weathersit</th>\n",
       "      <th>temp</th>\n",
       "    </tr>\n",
       "  </thead>\n",
       "  <tbody>\n",
       "    <tr>\n",
       "      <th>0</th>\n",
       "      <td>1</td>\n",
       "      <td>20110101</td>\n",
       "      <td>1</td>\n",
       "      <td>0</td>\n",
       "      <td>1</td>\n",
       "      <td>0</td>\n",
       "      <td>0</td>\n",
       "      <td>6</td>\n",
       "      <td>1</td>\n",
       "      <td>0.24</td>\n",
       "    </tr>\n",
       "    <tr>\n",
       "      <th>1</th>\n",
       "      <td>2</td>\n",
       "      <td>20110101</td>\n",
       "      <td>1</td>\n",
       "      <td>0</td>\n",
       "      <td>1</td>\n",
       "      <td>1</td>\n",
       "      <td>0</td>\n",
       "      <td>6</td>\n",
       "      <td>1</td>\n",
       "      <td>0.22</td>\n",
       "    </tr>\n",
       "    <tr>\n",
       "      <th>2</th>\n",
       "      <td>3</td>\n",
       "      <td>20110101</td>\n",
       "      <td>1</td>\n",
       "      <td>0</td>\n",
       "      <td>1</td>\n",
       "      <td>2</td>\n",
       "      <td>0</td>\n",
       "      <td>6</td>\n",
       "      <td>1</td>\n",
       "      <td>0.22</td>\n",
       "    </tr>\n",
       "    <tr>\n",
       "      <th>3</th>\n",
       "      <td>4</td>\n",
       "      <td>20110101</td>\n",
       "      <td>1</td>\n",
       "      <td>0</td>\n",
       "      <td>1</td>\n",
       "      <td>3</td>\n",
       "      <td>0</td>\n",
       "      <td>6</td>\n",
       "      <td>1</td>\n",
       "      <td>0.24</td>\n",
       "    </tr>\n",
       "    <tr>\n",
       "      <th>4</th>\n",
       "      <td>5</td>\n",
       "      <td>20110101</td>\n",
       "      <td>1</td>\n",
       "      <td>0</td>\n",
       "      <td>1</td>\n",
       "      <td>4</td>\n",
       "      <td>0</td>\n",
       "      <td>6</td>\n",
       "      <td>1</td>\n",
       "      <td>0.24</td>\n",
       "    </tr>\n",
       "  </tbody>\n",
       "</table>\n",
       "</div>"
      ],
      "text/plain": [
       "   instant    dteday  season  yr  mnth  hr  holiday  weekday  weathersit  temp\n",
       "0        1  20110101       1   0     1   0        0        6           1  0.24\n",
       "1        2  20110101       1   0     1   1        0        6           1  0.22\n",
       "2        3  20110101       1   0     1   2        0        6           1  0.22\n",
       "3        4  20110101       1   0     1   3        0        6           1  0.24\n",
       "4        5  20110101       1   0     1   4        0        6           1  0.24"
      ]
     },
     "execution_count": 22,
     "metadata": {},
     "output_type": "execute_result"
    }
   ],
   "source": [
    "data1.head()"
   ]
  },
  {
   "cell_type": "code",
   "execution_count": 23,
   "id": "0c0b51bd",
   "metadata": {},
   "outputs": [
    {
     "data": {
      "text/plain": [
       "instant         int64\n",
       "dteday          int32\n",
       "season          int64\n",
       "yr              int64\n",
       "mnth            int64\n",
       "hr              int64\n",
       "holiday         int32\n",
       "weekday         int64\n",
       "weathersit      int64\n",
       "temp          float64\n",
       "dtype: object"
      ]
     },
     "execution_count": 23,
     "metadata": {},
     "output_type": "execute_result"
    }
   ],
   "source": [
    "data1.dtypes"
   ]
  },
  {
   "cell_type": "code",
   "execution_count": 24,
   "id": "22f6dbcf",
   "metadata": {},
   "outputs": [
    {
     "data": {
      "text/html": [
       "<div>\n",
       "<style scoped>\n",
       "    .dataframe tbody tr th:only-of-type {\n",
       "        vertical-align: middle;\n",
       "    }\n",
       "\n",
       "    .dataframe tbody tr th {\n",
       "        vertical-align: top;\n",
       "    }\n",
       "\n",
       "    .dataframe thead th {\n",
       "        text-align: right;\n",
       "    }\n",
       "</style>\n",
       "<table border=\"1\" class=\"dataframe\">\n",
       "  <thead>\n",
       "    <tr style=\"text-align: right;\">\n",
       "      <th></th>\n",
       "      <th>instant</th>\n",
       "      <th>dteday</th>\n",
       "      <th>season</th>\n",
       "      <th>yr</th>\n",
       "      <th>mnth</th>\n",
       "      <th>hr</th>\n",
       "      <th>holiday</th>\n",
       "      <th>weekday</th>\n",
       "      <th>weathersit</th>\n",
       "      <th>temp</th>\n",
       "    </tr>\n",
       "  </thead>\n",
       "  <tbody>\n",
       "    <tr>\n",
       "      <th>instant</th>\n",
       "      <td>1.000000</td>\n",
       "      <td>0.998949</td>\n",
       "      <td>NaN</td>\n",
       "      <td>NaN</td>\n",
       "      <td>NaN</td>\n",
       "      <td>0.025355</td>\n",
       "      <td>0.090792</td>\n",
       "      <td>0.015448</td>\n",
       "      <td>0.162506</td>\n",
       "      <td>-0.314224</td>\n",
       "    </tr>\n",
       "    <tr>\n",
       "      <th>dteday</th>\n",
       "      <td>0.998949</td>\n",
       "      <td>1.000000</td>\n",
       "      <td>NaN</td>\n",
       "      <td>NaN</td>\n",
       "      <td>NaN</td>\n",
       "      <td>-0.011974</td>\n",
       "      <td>0.082414</td>\n",
       "      <td>0.022275</td>\n",
       "      <td>0.166450</td>\n",
       "      <td>-0.315769</td>\n",
       "    </tr>\n",
       "    <tr>\n",
       "      <th>season</th>\n",
       "      <td>NaN</td>\n",
       "      <td>NaN</td>\n",
       "      <td>NaN</td>\n",
       "      <td>NaN</td>\n",
       "      <td>NaN</td>\n",
       "      <td>NaN</td>\n",
       "      <td>NaN</td>\n",
       "      <td>NaN</td>\n",
       "      <td>NaN</td>\n",
       "      <td>NaN</td>\n",
       "    </tr>\n",
       "    <tr>\n",
       "      <th>yr</th>\n",
       "      <td>NaN</td>\n",
       "      <td>NaN</td>\n",
       "      <td>NaN</td>\n",
       "      <td>NaN</td>\n",
       "      <td>NaN</td>\n",
       "      <td>NaN</td>\n",
       "      <td>NaN</td>\n",
       "      <td>NaN</td>\n",
       "      <td>NaN</td>\n",
       "      <td>NaN</td>\n",
       "    </tr>\n",
       "    <tr>\n",
       "      <th>mnth</th>\n",
       "      <td>NaN</td>\n",
       "      <td>NaN</td>\n",
       "      <td>NaN</td>\n",
       "      <td>NaN</td>\n",
       "      <td>NaN</td>\n",
       "      <td>NaN</td>\n",
       "      <td>NaN</td>\n",
       "      <td>NaN</td>\n",
       "      <td>NaN</td>\n",
       "      <td>NaN</td>\n",
       "    </tr>\n",
       "    <tr>\n",
       "      <th>hr</th>\n",
       "      <td>0.025355</td>\n",
       "      <td>-0.011974</td>\n",
       "      <td>NaN</td>\n",
       "      <td>NaN</td>\n",
       "      <td>NaN</td>\n",
       "      <td>1.000000</td>\n",
       "      <td>-0.008722</td>\n",
       "      <td>-0.021792</td>\n",
       "      <td>-0.056370</td>\n",
       "      <td>0.165148</td>\n",
       "    </tr>\n",
       "    <tr>\n",
       "      <th>holiday</th>\n",
       "      <td>0.090792</td>\n",
       "      <td>0.082414</td>\n",
       "      <td>NaN</td>\n",
       "      <td>NaN</td>\n",
       "      <td>NaN</td>\n",
       "      <td>-0.008722</td>\n",
       "      <td>1.000000</td>\n",
       "      <td>-0.194864</td>\n",
       "      <td>0.217058</td>\n",
       "      <td>-0.052444</td>\n",
       "    </tr>\n",
       "    <tr>\n",
       "      <th>weekday</th>\n",
       "      <td>0.015448</td>\n",
       "      <td>0.022275</td>\n",
       "      <td>NaN</td>\n",
       "      <td>NaN</td>\n",
       "      <td>NaN</td>\n",
       "      <td>-0.021792</td>\n",
       "      <td>-0.194864</td>\n",
       "      <td>1.000000</td>\n",
       "      <td>0.065414</td>\n",
       "      <td>0.040457</td>\n",
       "    </tr>\n",
       "    <tr>\n",
       "      <th>weathersit</th>\n",
       "      <td>0.162506</td>\n",
       "      <td>0.166450</td>\n",
       "      <td>NaN</td>\n",
       "      <td>NaN</td>\n",
       "      <td>NaN</td>\n",
       "      <td>-0.056370</td>\n",
       "      <td>0.217058</td>\n",
       "      <td>0.065414</td>\n",
       "      <td>1.000000</td>\n",
       "      <td>0.224919</td>\n",
       "    </tr>\n",
       "    <tr>\n",
       "      <th>temp</th>\n",
       "      <td>-0.314224</td>\n",
       "      <td>-0.315769</td>\n",
       "      <td>NaN</td>\n",
       "      <td>NaN</td>\n",
       "      <td>NaN</td>\n",
       "      <td>0.165148</td>\n",
       "      <td>-0.052444</td>\n",
       "      <td>0.040457</td>\n",
       "      <td>0.224919</td>\n",
       "      <td>1.000000</td>\n",
       "    </tr>\n",
       "  </tbody>\n",
       "</table>\n",
       "</div>"
      ],
      "text/plain": [
       "             instant    dteday  season  yr  mnth        hr   holiday  \\\n",
       "instant     1.000000  0.998949     NaN NaN   NaN  0.025355  0.090792   \n",
       "dteday      0.998949  1.000000     NaN NaN   NaN -0.011974  0.082414   \n",
       "season           NaN       NaN     NaN NaN   NaN       NaN       NaN   \n",
       "yr               NaN       NaN     NaN NaN   NaN       NaN       NaN   \n",
       "mnth             NaN       NaN     NaN NaN   NaN       NaN       NaN   \n",
       "hr          0.025355 -0.011974     NaN NaN   NaN  1.000000 -0.008722   \n",
       "holiday     0.090792  0.082414     NaN NaN   NaN -0.008722  1.000000   \n",
       "weekday     0.015448  0.022275     NaN NaN   NaN -0.021792 -0.194864   \n",
       "weathersit  0.162506  0.166450     NaN NaN   NaN -0.056370  0.217058   \n",
       "temp       -0.314224 -0.315769     NaN NaN   NaN  0.165148 -0.052444   \n",
       "\n",
       "             weekday  weathersit      temp  \n",
       "instant     0.015448    0.162506 -0.314224  \n",
       "dteday      0.022275    0.166450 -0.315769  \n",
       "season           NaN         NaN       NaN  \n",
       "yr               NaN         NaN       NaN  \n",
       "mnth             NaN         NaN       NaN  \n",
       "hr         -0.021792   -0.056370  0.165148  \n",
       "holiday    -0.194864    0.217058 -0.052444  \n",
       "weekday     1.000000    0.065414  0.040457  \n",
       "weathersit  0.065414    1.000000  0.224919  \n",
       "temp        0.040457    0.224919  1.000000  "
      ]
     },
     "execution_count": 24,
     "metadata": {},
     "output_type": "execute_result"
    }
   ],
   "source": [
    "data1.corr()"
   ]
  },
  {
   "cell_type": "code",
   "execution_count": 25,
   "id": "979a7291",
   "metadata": {},
   "outputs": [
    {
     "data": {
      "text/plain": [
       "<Axes: >"
      ]
     },
     "execution_count": 25,
     "metadata": {},
     "output_type": "execute_result"
    },
    {
     "data": {
      "image/png": "[encoded data removed]",
      "text/plain": [
       "<Figure size 640x480 with 2 Axes>"
      ]
     },
     "metadata": {},
     "output_type": "display_data"
    }
   ],
   "source": [
    "sns.heatmap(data1)"
   ]
  },
  {
   "cell_type": "code",
   "execution_count": 26,
   "id": "ff6989c9",
   "metadata": {},
   "outputs": [
    {
     "data": {
      "text/plain": [
       "<Axes: >"
      ]
     },
     "execution_count": 26,
     "metadata": {},
     "output_type": "execute_result"
    },
    {
     "data": {
      "image/png": "[encoded data removed]",
      "text/plain": [
       "<Figure size 640x480 with 1 Axes>"
      ]
     },
     "metadata": {},
     "output_type": "display_data"
    }
   ],
   "source": [
    "sns.boxplot(data1['hr'])"
   ]
  },
  {
   "cell_type": "code",
   "execution_count": 27,
   "id": "36485672",
   "metadata": {},
   "outputs": [
    {
     "data": {
      "text/plain": [
       "12.0"
      ]
     },
     "execution_count": 27,
     "metadata": {},
     "output_type": "execute_result"
    }
   ],
   "source": [
    "q1,q3 = np.percentile(data1['hr'] , [25,75])\n",
    "iqr = q3-q1\n",
    "iqr"
   ]
  },
  {
   "cell_type": "code",
   "execution_count": 28,
   "id": "ccdbbd71",
   "metadata": {},
   "outputs": [
    {
     "data": {
      "text/plain": [
       "11.84"
      ]
     },
     "execution_count": 28,
     "metadata": {},
     "output_type": "execute_result"
    }
   ],
   "source": [
    "Q1,Q3 = np.percentile(data1 , [25,75])\n",
    "Iqr = Q3-Q1\n",
    "Iqr"
   ]
  },
  {
   "cell_type": "code",
   "execution_count": 29,
   "id": "cd1d48b7",
   "metadata": {},
   "outputs": [
    {
     "data": {
      "text/plain": [
       "<Axes: >"
      ]
     },
     "execution_count": 29,
     "metadata": {},
     "output_type": "execute_result"
    },
    {
     "data": {
      "image/png": "[encoded data removed]",
      "text/plain": [
       "<Figure size 640x480 with 1 Axes>"
      ]
     },
     "metadata": {},
     "output_type": "display_data"
    }
   ],
   "source": [
    "sns.boxplot(data1)"
   ]
  },
  {
   "cell_type": "code",
   "execution_count": 30,
   "id": "5033c8e7",
   "metadata": {},
   "outputs": [],
   "source": [
    "Upper_range = Q3+1.5*(Iqr)\n",
    "Lower_range = Q1-1.5*(Iqr)"
   ]
  },
  {
   "cell_type": "code",
   "execution_count": 31,
   "id": "434b16ac",
   "metadata": {},
   "outputs": [
    {
     "data": {
      "text/plain": [
       "(29.759999999999998, -17.599999999999998)"
      ]
     },
     "execution_count": 31,
     "metadata": {},
     "output_type": "execute_result"
    }
   ],
   "source": [
    "Upper_range , Lower_range"
   ]
  },
  {
   "cell_type": "code",
   "execution_count": null,
   "id": "d74351cd",
   "metadata": {},
   "outputs": [],
   "source": []
  },
  {
   "cell_type": "code",
   "execution_count": 32,
   "id": "f05cf8fb",
   "metadata": {},
   "outputs": [
    {
     "data": {
      "text/html": [
       "<div>\n",
       "<style scoped>\n",
       "    .dataframe tbody tr th:only-of-type {\n",
       "        vertical-align: middle;\n",
       "    }\n",
       "\n",
       "    .dataframe tbody tr th {\n",
       "        vertical-align: top;\n",
       "    }\n",
       "\n",
       "    .dataframe thead th {\n",
       "        text-align: right;\n",
       "    }\n",
       "</style>\n",
       "<table border=\"1\" class=\"dataframe\">\n",
       "  <thead>\n",
       "    <tr style=\"text-align: right;\">\n",
       "      <th></th>\n",
       "      <th>instant</th>\n",
       "      <th>dteday</th>\n",
       "      <th>season</th>\n",
       "      <th>yr</th>\n",
       "      <th>mnth</th>\n",
       "      <th>hr</th>\n",
       "      <th>holiday</th>\n",
       "      <th>weekday</th>\n",
       "      <th>weathersit</th>\n",
       "      <th>temp</th>\n",
       "    </tr>\n",
       "  </thead>\n",
       "  <tbody>\n",
       "    <tr>\n",
       "      <th>count</th>\n",
       "      <td>610.000000</td>\n",
       "      <td>6.100000e+02</td>\n",
       "      <td>610.0</td>\n",
       "      <td>610.0</td>\n",
       "      <td>610.0</td>\n",
       "      <td>610.000000</td>\n",
       "      <td>610.000000</td>\n",
       "      <td>610.000000</td>\n",
       "      <td>610.000000</td>\n",
       "      <td>610.000000</td>\n",
       "    </tr>\n",
       "    <tr>\n",
       "      <th>mean</th>\n",
       "      <td>305.500000</td>\n",
       "      <td>2.011011e+07</td>\n",
       "      <td>1.0</td>\n",
       "      <td>0.0</td>\n",
       "      <td>1.0</td>\n",
       "      <td>11.795082</td>\n",
       "      <td>0.039344</td>\n",
       "      <td>2.977049</td>\n",
       "      <td>1.477049</td>\n",
       "      <td>0.196885</td>\n",
       "    </tr>\n",
       "    <tr>\n",
       "      <th>std</th>\n",
       "      <td>176.236111</td>\n",
       "      <td>7.803859e+00</td>\n",
       "      <td>0.0</td>\n",
       "      <td>0.0</td>\n",
       "      <td>0.0</td>\n",
       "      <td>6.852107</td>\n",
       "      <td>0.194572</td>\n",
       "      <td>2.054943</td>\n",
       "      <td>0.643496</td>\n",
       "      <td>0.081304</td>\n",
       "    </tr>\n",
       "    <tr>\n",
       "      <th>min</th>\n",
       "      <td>1.000000</td>\n",
       "      <td>2.011010e+07</td>\n",
       "      <td>1.0</td>\n",
       "      <td>0.0</td>\n",
       "      <td>1.0</td>\n",
       "      <td>0.000000</td>\n",
       "      <td>0.000000</td>\n",
       "      <td>0.000000</td>\n",
       "      <td>1.000000</td>\n",
       "      <td>0.020000</td>\n",
       "    </tr>\n",
       "    <tr>\n",
       "      <th>25%</th>\n",
       "      <td>153.250000</td>\n",
       "      <td>2.011011e+07</td>\n",
       "      <td>1.0</td>\n",
       "      <td>0.0</td>\n",
       "      <td>1.0</td>\n",
       "      <td>6.000000</td>\n",
       "      <td>0.000000</td>\n",
       "      <td>1.000000</td>\n",
       "      <td>1.000000</td>\n",
       "      <td>0.160000</td>\n",
       "    </tr>\n",
       "    <tr>\n",
       "      <th>50%</th>\n",
       "      <td>305.500000</td>\n",
       "      <td>2.011011e+07</td>\n",
       "      <td>1.0</td>\n",
       "      <td>0.0</td>\n",
       "      <td>1.0</td>\n",
       "      <td>12.000000</td>\n",
       "      <td>0.000000</td>\n",
       "      <td>3.000000</td>\n",
       "      <td>1.000000</td>\n",
       "      <td>0.200000</td>\n",
       "    </tr>\n",
       "    <tr>\n",
       "      <th>75%</th>\n",
       "      <td>457.750000</td>\n",
       "      <td>2.011012e+07</td>\n",
       "      <td>1.0</td>\n",
       "      <td>0.0</td>\n",
       "      <td>1.0</td>\n",
       "      <td>18.000000</td>\n",
       "      <td>0.000000</td>\n",
       "      <td>5.000000</td>\n",
       "      <td>2.000000</td>\n",
       "      <td>0.235000</td>\n",
       "    </tr>\n",
       "    <tr>\n",
       "      <th>max</th>\n",
       "      <td>610.000000</td>\n",
       "      <td>2.011013e+07</td>\n",
       "      <td>1.0</td>\n",
       "      <td>0.0</td>\n",
       "      <td>1.0</td>\n",
       "      <td>23.000000</td>\n",
       "      <td>1.000000</td>\n",
       "      <td>6.000000</td>\n",
       "      <td>4.000000</td>\n",
       "      <td>0.460000</td>\n",
       "    </tr>\n",
       "  </tbody>\n",
       "</table>\n",
       "</div>"
      ],
      "text/plain": [
       "          instant        dteday  season     yr   mnth          hr     holiday  \\\n",
       "count  610.000000  6.100000e+02   610.0  610.0  610.0  610.000000  610.000000   \n",
       "mean   305.500000  2.011011e+07     1.0    0.0    1.0   11.795082    0.039344   \n",
       "std    176.236111  7.803859e+00     0.0    0.0    0.0    6.852107    0.194572   \n",
       "min      1.000000  2.011010e+07     1.0    0.0    1.0    0.000000    0.000000   \n",
       "25%    153.250000  2.011011e+07     1.0    0.0    1.0    6.000000    0.000000   \n",
       "50%    305.500000  2.011011e+07     1.0    0.0    1.0   12.000000    0.000000   \n",
       "75%    457.750000  2.011012e+07     1.0    0.0    1.0   18.000000    0.000000   \n",
       "max    610.000000  2.011013e+07     1.0    0.0    1.0   23.000000    1.000000   \n",
       "\n",
       "          weekday  weathersit        temp  \n",
       "count  610.000000  610.000000  610.000000  \n",
       "mean     2.977049    1.477049    0.196885  \n",
       "std      2.054943    0.643496    0.081304  \n",
       "min      0.000000    1.000000    0.020000  \n",
       "25%      1.000000    1.000000    0.160000  \n",
       "50%      3.000000    1.000000    0.200000  \n",
       "75%      5.000000    2.000000    0.235000  \n",
       "max      6.000000    4.000000    0.460000  "
      ]
     },
     "execution_count": 32,
     "metadata": {},
     "output_type": "execute_result"
    }
   ],
   "source": [
    "data1.describe()"
   ]
  },
  {
   "cell_type": "code",
   "execution_count": 33,
   "id": "3ab705ce",
   "metadata": {},
   "outputs": [
    {
     "data": {
      "text/plain": [
       "instant       0.000000\n",
       "dteday        0.049512\n",
       "season        0.000000\n",
       "yr            0.000000\n",
       "mnth          0.000000\n",
       "hr           -0.072059\n",
       "holiday       4.750637\n",
       "weekday       0.026403\n",
       "weathersit    1.050244\n",
       "temp          0.665087\n",
       "dtype: float64"
      ]
     },
     "execution_count": 33,
     "metadata": {},
     "output_type": "execute_result"
    }
   ],
   "source": [
    "data1.skew()"
   ]
  },
  {
   "cell_type": "code",
   "execution_count": 34,
   "id": "1b2891bb",
   "metadata": {},
   "outputs": [],
   "source": [
    "data2 = pd.read_csv('dataset_2.xlsx - dataset_2.csv')"
   ]
  },
  {
   "cell_type": "code",
   "execution_count": 35,
   "id": "97eb15fb",
   "metadata": {},
   "outputs": [
    {
     "data": {
      "text/plain": [
       "(610, 8)"
      ]
     },
     "execution_count": 35,
     "metadata": {},
     "output_type": "execute_result"
    }
   ],
   "source": [
    "data2.shape"
   ]
  },
  {
   "cell_type": "code",
   "execution_count": 36,
   "id": "d64bafe3",
   "metadata": {},
   "outputs": [
    {
     "data": {
      "text/html": [
       "<div>\n",
       "<style scoped>\n",
       "    .dataframe tbody tr th:only-of-type {\n",
       "        vertical-align: middle;\n",
       "    }\n",
       "\n",
       "    .dataframe tbody tr th {\n",
       "        vertical-align: top;\n",
       "    }\n",
       "\n",
       "    .dataframe thead th {\n",
       "        text-align: right;\n",
       "    }\n",
       "</style>\n",
       "<table border=\"1\" class=\"dataframe\">\n",
       "  <thead>\n",
       "    <tr style=\"text-align: right;\">\n",
       "      <th></th>\n",
       "      <th>Unnamed: 0</th>\n",
       "      <th>instant</th>\n",
       "      <th>atemp</th>\n",
       "      <th>hum</th>\n",
       "      <th>windspeed</th>\n",
       "      <th>casual</th>\n",
       "      <th>registered</th>\n",
       "      <th>cnt</th>\n",
       "    </tr>\n",
       "  </thead>\n",
       "  <tbody>\n",
       "    <tr>\n",
       "      <th>0</th>\n",
       "      <td>0</td>\n",
       "      <td>1</td>\n",
       "      <td>0.2879</td>\n",
       "      <td>0.81</td>\n",
       "      <td>0.0</td>\n",
       "      <td>3</td>\n",
       "      <td>13</td>\n",
       "      <td>16</td>\n",
       "    </tr>\n",
       "    <tr>\n",
       "      <th>1</th>\n",
       "      <td>1</td>\n",
       "      <td>2</td>\n",
       "      <td>0.2727</td>\n",
       "      <td>0.80</td>\n",
       "      <td>0.0</td>\n",
       "      <td>8</td>\n",
       "      <td>32</td>\n",
       "      <td>40</td>\n",
       "    </tr>\n",
       "    <tr>\n",
       "      <th>2</th>\n",
       "      <td>2</td>\n",
       "      <td>3</td>\n",
       "      <td>0.2727</td>\n",
       "      <td>0.80</td>\n",
       "      <td>0.0</td>\n",
       "      <td>5</td>\n",
       "      <td>27</td>\n",
       "      <td>32</td>\n",
       "    </tr>\n",
       "    <tr>\n",
       "      <th>3</th>\n",
       "      <td>3</td>\n",
       "      <td>4</td>\n",
       "      <td>0.2879</td>\n",
       "      <td>0.75</td>\n",
       "      <td>0.0</td>\n",
       "      <td>3</td>\n",
       "      <td>10</td>\n",
       "      <td>13</td>\n",
       "    </tr>\n",
       "    <tr>\n",
       "      <th>4</th>\n",
       "      <td>4</td>\n",
       "      <td>5</td>\n",
       "      <td>0.2879</td>\n",
       "      <td>0.75</td>\n",
       "      <td>0.0</td>\n",
       "      <td>0</td>\n",
       "      <td>1</td>\n",
       "      <td>1</td>\n",
       "    </tr>\n",
       "  </tbody>\n",
       "</table>\n",
       "</div>"
      ],
      "text/plain": [
       "   Unnamed: 0  instant   atemp   hum  windspeed  casual  registered  cnt\n",
       "0           0        1  0.2879  0.81        0.0       3          13   16\n",
       "1           1        2  0.2727  0.80        0.0       8          32   40\n",
       "2           2        3  0.2727  0.80        0.0       5          27   32\n",
       "3           3        4  0.2879  0.75        0.0       3          10   13\n",
       "4           4        5  0.2879  0.75        0.0       0           1    1"
      ]
     },
     "execution_count": 36,
     "metadata": {},
     "output_type": "execute_result"
    }
   ],
   "source": [
    "data2.head()"
   ]
  },
  {
   "cell_type": "code",
   "execution_count": 37,
   "id": "e414ca73",
   "metadata": {},
   "outputs": [
    {
     "data": {
      "text/plain": [
       "Unnamed: 0      int64\n",
       "instant         int64\n",
       "atemp         float64\n",
       "hum           float64\n",
       "windspeed     float64\n",
       "casual          int64\n",
       "registered      int64\n",
       "cnt             int64\n",
       "dtype: object"
      ]
     },
     "execution_count": 37,
     "metadata": {},
     "output_type": "execute_result"
    }
   ],
   "source": [
    "data2.dtypes"
   ]
  },
  {
   "cell_type": "code",
   "execution_count": 38,
   "id": "88f2d0e2",
   "metadata": {},
   "outputs": [
    {
     "data": {
      "text/plain": [
       "Unnamed: 0     0\n",
       "instant        0\n",
       "atemp         11\n",
       "hum            0\n",
       "windspeed      0\n",
       "casual         0\n",
       "registered     0\n",
       "cnt            0\n",
       "dtype: int64"
      ]
     },
     "execution_count": 38,
     "metadata": {},
     "output_type": "execute_result"
    }
   ],
   "source": [
    "data2.isnull().sum()"
   ]
  },
  {
   "cell_type": "code",
   "execution_count": 39,
   "id": "71dcef6e",
   "metadata": {},
   "outputs": [
    {
     "data": {
      "text/plain": [
       "0.19993489148580967"
      ]
     },
     "execution_count": 39,
     "metadata": {},
     "output_type": "execute_result"
    }
   ],
   "source": [
    "data2['atemp'].mean()"
   ]
  },
  {
   "cell_type": "code",
   "execution_count": 40,
   "id": "9518b37b",
   "metadata": {},
   "outputs": [
    {
     "data": {
      "text/plain": [
       "0.197"
      ]
     },
     "execution_count": 40,
     "metadata": {},
     "output_type": "execute_result"
    }
   ],
   "source": [
    "data2['atemp'].median()"
   ]
  },
  {
   "cell_type": "code",
   "execution_count": 41,
   "id": "a20805d6",
   "metadata": {},
   "outputs": [],
   "source": [
    "data2['atemp']= data2['atemp'].fillna(data2['atemp'].mean())"
   ]
  },
  {
   "cell_type": "code",
   "execution_count": 42,
   "id": "9ea71679",
   "metadata": {},
   "outputs": [
    {
     "data": {
      "text/plain": [
       "Unnamed: 0    0\n",
       "instant       0\n",
       "atemp         0\n",
       "hum           0\n",
       "windspeed     0\n",
       "casual        0\n",
       "registered    0\n",
       "cnt           0\n",
       "dtype: int64"
      ]
     },
     "execution_count": 42,
     "metadata": {},
     "output_type": "execute_result"
    }
   ],
   "source": [
    "data2.isnull().sum()"
   ]
  },
  {
   "cell_type": "code",
   "execution_count": 43,
   "id": "c3ade2df",
   "metadata": {},
   "outputs": [],
   "source": [
    "data2 = data2.drop('Unnamed: 0', axis=1)"
   ]
  },
  {
   "cell_type": "code",
   "execution_count": 44,
   "id": "dd1bcec7",
   "metadata": {},
   "outputs": [
    {
     "data": {
      "text/plain": [
       "array([ 3,  8,  5,  0,  2,  1, 12, 26, 29, 47, 35, 40, 41, 15,  9,  6, 11,\n",
       "        4,  7, 16, 20, 19, 10, 13, 14, 18, 17, 21, 33, 23, 22, 24],\n",
       "      dtype=int64)"
      ]
     },
     "execution_count": 44,
     "metadata": {},
     "output_type": "execute_result"
    }
   ],
   "source": [
    "data2['casual'].unique()"
   ]
  },
  {
   "cell_type": "code",
   "execution_count": 45,
   "id": "b95476f6",
   "metadata": {},
   "outputs": [
    {
     "data": {
      "text/plain": [
       "array([ 13,  32,  27,  10,   1,   0,   2,   7,   6,  24,  30,  55,  47,\n",
       "        71,  70,  52,  26,  31,  25,  17,  16,   8,   4,  19,  46,  54,\n",
       "        73,  64,  67,  58,  43,  29,  20,   9,   5,   3,  63, 153,  81,\n",
       "        33,  41,  48,  53,  66, 146, 148, 102,  49,  11,  36,  92, 177,\n",
       "        98,  37,  50,  79,  68, 202, 179, 110,  34,  87, 192, 109,  74,\n",
       "        65,  85, 186, 166, 127,  82,  40,  18,  95, 216, 116,  42,  57,\n",
       "        78,  59, 163, 158,  51,  76, 190, 125, 178,  39,  14,  15,  56,\n",
       "        60,  90,  83,  69,  28,  35,  22,  12,  77,  44,  38,  75, 184,\n",
       "       174, 154,  97, 214,  45,  72, 130,  94, 139, 135, 197, 137, 141,\n",
       "       156, 117, 155, 134,  89,  80, 108,  61, 124, 132, 196, 107, 100,\n",
       "       247, 140,  86,  62, 207, 210, 159, 151, 119,  93,  23, 171, 145,\n",
       "       101,  21, 103, 233, 208, 218, 133], dtype=int64)"
      ]
     },
     "execution_count": 45,
     "metadata": {},
     "output_type": "execute_result"
    }
   ],
   "source": [
    "data2['registered'].unique()"
   ]
  },
  {
   "cell_type": "code",
   "execution_count": 46,
   "id": "0a952825",
   "metadata": {},
   "outputs": [
    {
     "data": {
      "text/plain": [
       "array([ 16,  40,  32,  13,   1,   2,   3,   8,  14,  36,  56,  84,  94,\n",
       "       106, 110,  93,  67,  35,  37,  34,  28,  39,  17,   9,   6,  20,\n",
       "        53,  70,  75,  59,  74,  76,  65,  30,  22,  31,   5,  64, 154,\n",
       "        88,  44,  51,  61,  77,  72, 157,  52,  12,   4, 179, 100,  42,\n",
       "        57,  78,  97,  63,  83, 212, 182, 112,  54,  48,  11,  33, 195,\n",
       "       115,  46,  79,  71,  62,  89, 190, 169, 132,  43,  19,  95, 219,\n",
       "       122,  45,  86, 172, 163,  69,  23,   7, 210, 134,  73,  50,  87,\n",
       "       187, 123,  15,  25,  98, 102,  55,  10,  49,  82,  92,  41,  38,\n",
       "       188,  47, 178, 155,  24,  18,  27,  99, 217, 130, 136,  29, 128,\n",
       "        81,  68, 139, 137, 202,  60, 162, 144, 158, 117,  90, 159, 101,\n",
       "       118, 129,  26, 104,  91, 113, 105,  21,  80, 125, 133, 197, 109,\n",
       "       161, 249, 143, 215, 185, 152, 126, 166, 120,  96, 103,  58, 116,\n",
       "       177, 184, 153, 108, 238, 222, 225, 146, 119], dtype=int64)"
      ]
     },
     "execution_count": 46,
     "metadata": {},
     "output_type": "execute_result"
    }
   ],
   "source": [
    "data2['cnt'].unique()"
   ]
  },
  {
   "cell_type": "code",
   "execution_count": 47,
   "id": "1464b1ff",
   "metadata": {},
   "outputs": [
    {
     "data": {
      "text/html": [
       "<div>\n",
       "<style scoped>\n",
       "    .dataframe tbody tr th:only-of-type {\n",
       "        vertical-align: middle;\n",
       "    }\n",
       "\n",
       "    .dataframe tbody tr th {\n",
       "        vertical-align: top;\n",
       "    }\n",
       "\n",
       "    .dataframe thead th {\n",
       "        text-align: right;\n",
       "    }\n",
       "</style>\n",
       "<table border=\"1\" class=\"dataframe\">\n",
       "  <thead>\n",
       "    <tr style=\"text-align: right;\">\n",
       "      <th></th>\n",
       "      <th>instant</th>\n",
       "      <th>atemp</th>\n",
       "      <th>hum</th>\n",
       "      <th>windspeed</th>\n",
       "      <th>casual</th>\n",
       "      <th>registered</th>\n",
       "      <th>cnt</th>\n",
       "    </tr>\n",
       "  </thead>\n",
       "  <tbody>\n",
       "    <tr>\n",
       "      <th>count</th>\n",
       "      <td>610.000000</td>\n",
       "      <td>610.000000</td>\n",
       "      <td>610.000000</td>\n",
       "      <td>610.000000</td>\n",
       "      <td>610.000000</td>\n",
       "      <td>610.000000</td>\n",
       "      <td>610.000000</td>\n",
       "    </tr>\n",
       "    <tr>\n",
       "      <th>mean</th>\n",
       "      <td>305.500000</td>\n",
       "      <td>0.199935</td>\n",
       "      <td>0.562475</td>\n",
       "      <td>0.204851</td>\n",
       "      <td>4.501639</td>\n",
       "      <td>51.068852</td>\n",
       "      <td>55.570492</td>\n",
       "    </tr>\n",
       "    <tr>\n",
       "      <th>std</th>\n",
       "      <td>176.236111</td>\n",
       "      <td>0.078120</td>\n",
       "      <td>0.175440</td>\n",
       "      <td>0.121806</td>\n",
       "      <td>6.319945</td>\n",
       "      <td>47.021204</td>\n",
       "      <td>49.316802</td>\n",
       "    </tr>\n",
       "    <tr>\n",
       "      <th>min</th>\n",
       "      <td>1.000000</td>\n",
       "      <td>0.000000</td>\n",
       "      <td>0.210000</td>\n",
       "      <td>0.000000</td>\n",
       "      <td>0.000000</td>\n",
       "      <td>0.000000</td>\n",
       "      <td>1.000000</td>\n",
       "    </tr>\n",
       "    <tr>\n",
       "      <th>25%</th>\n",
       "      <td>153.250000</td>\n",
       "      <td>0.151500</td>\n",
       "      <td>0.432500</td>\n",
       "      <td>0.104500</td>\n",
       "      <td>0.000000</td>\n",
       "      <td>14.000000</td>\n",
       "      <td>16.000000</td>\n",
       "    </tr>\n",
       "    <tr>\n",
       "      <th>50%</th>\n",
       "      <td>305.500000</td>\n",
       "      <td>0.197000</td>\n",
       "      <td>0.520000</td>\n",
       "      <td>0.194000</td>\n",
       "      <td>2.000000</td>\n",
       "      <td>43.000000</td>\n",
       "      <td>47.000000</td>\n",
       "    </tr>\n",
       "    <tr>\n",
       "      <th>75%</th>\n",
       "      <td>457.750000</td>\n",
       "      <td>0.227300</td>\n",
       "      <td>0.690000</td>\n",
       "      <td>0.283600</td>\n",
       "      <td>6.000000</td>\n",
       "      <td>70.000000</td>\n",
       "      <td>79.750000</td>\n",
       "    </tr>\n",
       "    <tr>\n",
       "      <th>max</th>\n",
       "      <td>610.000000</td>\n",
       "      <td>0.454500</td>\n",
       "      <td>1.000000</td>\n",
       "      <td>0.582100</td>\n",
       "      <td>47.000000</td>\n",
       "      <td>247.000000</td>\n",
       "      <td>249.000000</td>\n",
       "    </tr>\n",
       "  </tbody>\n",
       "</table>\n",
       "</div>"
      ],
      "text/plain": [
       "          instant       atemp         hum   windspeed      casual  registered  \\\n",
       "count  610.000000  610.000000  610.000000  610.000000  610.000000  610.000000   \n",
       "mean   305.500000    0.199935    0.562475    0.204851    4.501639   51.068852   \n",
       "std    176.236111    0.078120    0.175440    0.121806    6.319945   47.021204   \n",
       "min      1.000000    0.000000    0.210000    0.000000    0.000000    0.000000   \n",
       "25%    153.250000    0.151500    0.432500    0.104500    0.000000   14.000000   \n",
       "50%    305.500000    0.197000    0.520000    0.194000    2.000000   43.000000   \n",
       "75%    457.750000    0.227300    0.690000    0.283600    6.000000   70.000000   \n",
       "max    610.000000    0.454500    1.000000    0.582100   47.000000  247.000000   \n",
       "\n",
       "              cnt  \n",
       "count  610.000000  \n",
       "mean    55.570492  \n",
       "std     49.316802  \n",
       "min      1.000000  \n",
       "25%     16.000000  \n",
       "50%     47.000000  \n",
       "75%     79.750000  \n",
       "max    249.000000  "
      ]
     },
     "execution_count": 47,
     "metadata": {},
     "output_type": "execute_result"
    }
   ],
   "source": [
    "data2.describe()"
   ]
  },
  {
   "cell_type": "code",
   "execution_count": 48,
   "id": "91078fb1",
   "metadata": {},
   "outputs": [
    {
     "data": {
      "text/html": [
       "<div>\n",
       "<style scoped>\n",
       "    .dataframe tbody tr th:only-of-type {\n",
       "        vertical-align: middle;\n",
       "    }\n",
       "\n",
       "    .dataframe tbody tr th {\n",
       "        vertical-align: top;\n",
       "    }\n",
       "\n",
       "    .dataframe thead th {\n",
       "        text-align: right;\n",
       "    }\n",
       "</style>\n",
       "<table border=\"1\" class=\"dataframe\">\n",
       "  <thead>\n",
       "    <tr style=\"text-align: right;\">\n",
       "      <th></th>\n",
       "      <th>instant</th>\n",
       "      <th>atemp</th>\n",
       "      <th>hum</th>\n",
       "      <th>windspeed</th>\n",
       "      <th>casual</th>\n",
       "      <th>registered</th>\n",
       "      <th>cnt</th>\n",
       "    </tr>\n",
       "  </thead>\n",
       "  <tbody>\n",
       "    <tr>\n",
       "      <th>instant</th>\n",
       "      <td>1.000000</td>\n",
       "      <td>-0.271718</td>\n",
       "      <td>0.045119</td>\n",
       "      <td>-0.029262</td>\n",
       "      <td>-0.088926</td>\n",
       "      <td>0.047670</td>\n",
       "      <td>0.034055</td>\n",
       "    </tr>\n",
       "    <tr>\n",
       "      <th>atemp</th>\n",
       "      <td>-0.271718</td>\n",
       "      <td>1.000000</td>\n",
       "      <td>0.298281</td>\n",
       "      <td>-0.244217</td>\n",
       "      <td>0.388592</td>\n",
       "      <td>0.145222</td>\n",
       "      <td>0.188260</td>\n",
       "    </tr>\n",
       "    <tr>\n",
       "      <th>hum</th>\n",
       "      <td>0.045119</td>\n",
       "      <td>0.298281</td>\n",
       "      <td>1.000000</td>\n",
       "      <td>-0.307205</td>\n",
       "      <td>-0.204634</td>\n",
       "      <td>-0.228278</td>\n",
       "      <td>-0.243876</td>\n",
       "    </tr>\n",
       "    <tr>\n",
       "      <th>windspeed</th>\n",
       "      <td>-0.029262</td>\n",
       "      <td>-0.244217</td>\n",
       "      <td>-0.307205</td>\n",
       "      <td>1.000000</td>\n",
       "      <td>0.120109</td>\n",
       "      <td>0.038115</td>\n",
       "      <td>0.051733</td>\n",
       "    </tr>\n",
       "    <tr>\n",
       "      <th>casual</th>\n",
       "      <td>-0.088926</td>\n",
       "      <td>0.388592</td>\n",
       "      <td>-0.204634</td>\n",
       "      <td>0.120109</td>\n",
       "      <td>1.000000</td>\n",
       "      <td>0.304894</td>\n",
       "      <td>0.418852</td>\n",
       "    </tr>\n",
       "    <tr>\n",
       "      <th>registered</th>\n",
       "      <td>0.047670</td>\n",
       "      <td>0.145222</td>\n",
       "      <td>-0.228278</td>\n",
       "      <td>0.038115</td>\n",
       "      <td>0.304894</td>\n",
       "      <td>1.000000</td>\n",
       "      <td>0.992524</td>\n",
       "    </tr>\n",
       "    <tr>\n",
       "      <th>cnt</th>\n",
       "      <td>0.034055</td>\n",
       "      <td>0.188260</td>\n",
       "      <td>-0.243876</td>\n",
       "      <td>0.051733</td>\n",
       "      <td>0.418852</td>\n",
       "      <td>0.992524</td>\n",
       "      <td>1.000000</td>\n",
       "    </tr>\n",
       "  </tbody>\n",
       "</table>\n",
       "</div>"
      ],
      "text/plain": [
       "             instant     atemp       hum  windspeed    casual  registered  \\\n",
       "instant     1.000000 -0.271718  0.045119  -0.029262 -0.088926    0.047670   \n",
       "atemp      -0.271718  1.000000  0.298281  -0.244217  0.388592    0.145222   \n",
       "hum         0.045119  0.298281  1.000000  -0.307205 -0.204634   -0.228278   \n",
       "windspeed  -0.029262 -0.244217 -0.307205   1.000000  0.120109    0.038115   \n",
       "casual     -0.088926  0.388592 -0.204634   0.120109  1.000000    0.304894   \n",
       "registered  0.047670  0.145222 -0.228278   0.038115  0.304894    1.000000   \n",
       "cnt         0.034055  0.188260 -0.243876   0.051733  0.418852    0.992524   \n",
       "\n",
       "                 cnt  \n",
       "instant     0.034055  \n",
       "atemp       0.188260  \n",
       "hum        -0.243876  \n",
       "windspeed   0.051733  \n",
       "casual      0.418852  \n",
       "registered  0.992524  \n",
       "cnt         1.000000  "
      ]
     },
     "execution_count": 48,
     "metadata": {},
     "output_type": "execute_result"
    }
   ],
   "source": [
    "data2.corr()"
   ]
  },
  {
   "cell_type": "code",
   "execution_count": 49,
   "id": "6570a30b",
   "metadata": {},
   "outputs": [
    {
     "data": {
      "text/plain": [
       "<Axes: >"
      ]
     },
     "execution_count": 49,
     "metadata": {},
     "output_type": "execute_result"
    },
    {
     "data": {
      "image/png": "[encoded data removed]",
      "text/plain": [
       "<Figure size 640x480 with 2 Axes>"
      ]
     },
     "metadata": {},
     "output_type": "display_data"
    }
   ],
   "source": [
    "sns.heatmap(data2)"
   ]
  },
  {
   "cell_type": "code",
   "execution_count": 50,
   "id": "5bf88500",
   "metadata": {},
   "outputs": [],
   "source": [
    "Q1, Q3 =  np.percentile(data2 , [25,75])"
   ]
  },
  {
   "cell_type": "code",
   "execution_count": 51,
   "id": "cdd8b15c",
   "metadata": {},
   "outputs": [
    {
     "data": {
      "text/plain": [
       "53.7463"
      ]
     },
     "execution_count": 51,
     "metadata": {},
     "output_type": "execute_result"
    }
   ],
   "source": [
    "IQR = Q3-Q1\n",
    "IQR"
   ]
  },
  {
   "cell_type": "code",
   "execution_count": 52,
   "id": "9a077490",
   "metadata": {},
   "outputs": [],
   "source": [
    "upper_range = Q3+1.5*(IQR)\n",
    "lower_range = Q1-1.5*(IQR)"
   ]
  },
  {
   "cell_type": "code",
   "execution_count": 53,
   "id": "6c9d9efd",
   "metadata": {},
   "outputs": [
    {
     "data": {
      "text/plain": [
       "(134.61945, -80.36575)"
      ]
     },
     "execution_count": 53,
     "metadata": {},
     "output_type": "execute_result"
    }
   ],
   "source": [
    "upper_range , lower_range"
   ]
  },
  {
   "cell_type": "code",
   "execution_count": 54,
   "id": "66a708d9",
   "metadata": {},
   "outputs": [
    {
     "data": {
      "text/plain": [
       "<Axes: >"
      ]
     },
     "execution_count": 54,
     "metadata": {},
     "output_type": "execute_result"
    },
    {
     "data": {
      "image/png": "[encoded data removed]",
      "text/plain": [
       "<Figure size 640x480 with 1 Axes>"
      ]
     },
     "metadata": {},
     "output_type": "display_data"
    }
   ],
   "source": [
    "sns.boxplot(data2)"
   ]
  },
  {
   "cell_type": "code",
   "execution_count": 55,
   "id": "542bfce6",
   "metadata": {},
   "outputs": [
    {
     "data": {
      "text/plain": [
       "<Axes: >"
      ]
     },
     "execution_count": 55,
     "metadata": {},
     "output_type": "execute_result"
    },
    {
     "data": {
      "image/png": "[encoded data removed]",
      "text/plain": [
       "<Figure size 640x480 with 1 Axes>"
      ]
     },
     "metadata": {},
     "output_type": "display_data"
    }
   ],
   "source": [
    "sns.boxplot(data2['casual'])"
   ]
  },
  {
   "cell_type": "code",
   "execution_count": 56,
   "id": "a0a5f387",
   "metadata": {},
   "outputs": [
    {
     "data": {
      "text/plain": [
       "6.0"
      ]
     },
     "execution_count": 56,
     "metadata": {},
     "output_type": "execute_result"
    }
   ],
   "source": [
    "### IQR for casual\n",
    "Q1, Q3 =  np.percentile(data2['casual'] , [25,75])\n",
    "IQR = Q3-Q1\n",
    "IQR"
   ]
  },
  {
   "cell_type": "code",
   "execution_count": 57,
   "id": "bfa09ed3",
   "metadata": {},
   "outputs": [
    {
     "data": {
      "text/plain": [
       "(15.0, -9.0)"
      ]
     },
     "execution_count": 57,
     "metadata": {},
     "output_type": "execute_result"
    }
   ],
   "source": [
    "upper_range = Q3+1.5*(IQR)\n",
    "lower_range = Q1-1.5*(IQR)\n",
    "upper_range , lower_range"
   ]
  },
  {
   "cell_type": "code",
   "execution_count": 58,
   "id": "0396bac4",
   "metadata": {},
   "outputs": [
    {
     "data": {
      "text/html": [
       "<div>\n",
       "<style scoped>\n",
       "    .dataframe tbody tr th:only-of-type {\n",
       "        vertical-align: middle;\n",
       "    }\n",
       "\n",
       "    .dataframe tbody tr th {\n",
       "        vertical-align: top;\n",
       "    }\n",
       "\n",
       "    .dataframe thead th {\n",
       "        text-align: right;\n",
       "    }\n",
       "</style>\n",
       "<table border=\"1\" class=\"dataframe\">\n",
       "  <thead>\n",
       "    <tr style=\"text-align: right;\">\n",
       "      <th></th>\n",
       "      <th>instant</th>\n",
       "      <th>atemp</th>\n",
       "      <th>hum</th>\n",
       "      <th>windspeed</th>\n",
       "      <th>casual</th>\n",
       "      <th>registered</th>\n",
       "      <th>cnt</th>\n",
       "    </tr>\n",
       "  </thead>\n",
       "  <tbody>\n",
       "    <tr>\n",
       "      <th>11</th>\n",
       "      <td>12</td>\n",
       "      <td>0.3333</td>\n",
       "      <td>0.81</td>\n",
       "      <td>0.2836</td>\n",
       "      <td>26</td>\n",
       "      <td>30</td>\n",
       "      <td>56</td>\n",
       "    </tr>\n",
       "    <tr>\n",
       "      <th>12</th>\n",
       "      <td>13</td>\n",
       "      <td>0.4242</td>\n",
       "      <td>0.77</td>\n",
       "      <td>0.2836</td>\n",
       "      <td>29</td>\n",
       "      <td>55</td>\n",
       "      <td>84</td>\n",
       "    </tr>\n",
       "    <tr>\n",
       "      <th>13</th>\n",
       "      <td>14</td>\n",
       "      <td>0.4545</td>\n",
       "      <td>0.72</td>\n",
       "      <td>0.2985</td>\n",
       "      <td>47</td>\n",
       "      <td>47</td>\n",
       "      <td>94</td>\n",
       "    </tr>\n",
       "    <tr>\n",
       "      <th>14</th>\n",
       "      <td>15</td>\n",
       "      <td>0.4545</td>\n",
       "      <td>0.72</td>\n",
       "      <td>0.2836</td>\n",
       "      <td>35</td>\n",
       "      <td>71</td>\n",
       "      <td>106</td>\n",
       "    </tr>\n",
       "    <tr>\n",
       "      <th>15</th>\n",
       "      <td>16</td>\n",
       "      <td>0.4394</td>\n",
       "      <td>0.77</td>\n",
       "      <td>0.2985</td>\n",
       "      <td>40</td>\n",
       "      <td>70</td>\n",
       "      <td>110</td>\n",
       "    </tr>\n",
       "    <tr>\n",
       "      <th>16</th>\n",
       "      <td>17</td>\n",
       "      <td>0.4242</td>\n",
       "      <td>0.82</td>\n",
       "      <td>0.2985</td>\n",
       "      <td>41</td>\n",
       "      <td>52</td>\n",
       "      <td>93</td>\n",
       "    </tr>\n",
       "    <tr>\n",
       "      <th>34</th>\n",
       "      <td>35</td>\n",
       "      <td>0.3333</td>\n",
       "      <td>0.71</td>\n",
       "      <td>0.2537</td>\n",
       "      <td>16</td>\n",
       "      <td>54</td>\n",
       "      <td>70</td>\n",
       "    </tr>\n",
       "    <tr>\n",
       "      <th>35</th>\n",
       "      <td>36</td>\n",
       "      <td>0.3333</td>\n",
       "      <td>0.66</td>\n",
       "      <td>0.2985</td>\n",
       "      <td>20</td>\n",
       "      <td>73</td>\n",
       "      <td>93</td>\n",
       "    </tr>\n",
       "    <tr>\n",
       "      <th>38</th>\n",
       "      <td>39</td>\n",
       "      <td>0.3333</td>\n",
       "      <td>0.81</td>\n",
       "      <td>0.1642</td>\n",
       "      <td>19</td>\n",
       "      <td>55</td>\n",
       "      <td>74</td>\n",
       "    </tr>\n",
       "    <tr>\n",
       "      <th>81</th>\n",
       "      <td>82</td>\n",
       "      <td>0.2273</td>\n",
       "      <td>0.56</td>\n",
       "      <td>0.1940</td>\n",
       "      <td>18</td>\n",
       "      <td>79</td>\n",
       "      <td>97</td>\n",
       "    </tr>\n",
       "    <tr>\n",
       "      <th>83</th>\n",
       "      <td>84</td>\n",
       "      <td>0.2727</td>\n",
       "      <td>0.52</td>\n",
       "      <td>0.2537</td>\n",
       "      <td>17</td>\n",
       "      <td>48</td>\n",
       "      <td>65</td>\n",
       "    </tr>\n",
       "    <tr>\n",
       "      <th>145</th>\n",
       "      <td>146</td>\n",
       "      <td>0.1970</td>\n",
       "      <td>0.51</td>\n",
       "      <td>0.2537</td>\n",
       "      <td>20</td>\n",
       "      <td>190</td>\n",
       "      <td>210</td>\n",
       "    </tr>\n",
       "    <tr>\n",
       "      <th>147</th>\n",
       "      <td>148</td>\n",
       "      <td>0.1970</td>\n",
       "      <td>0.37</td>\n",
       "      <td>0.3284</td>\n",
       "      <td>16</td>\n",
       "      <td>47</td>\n",
       "      <td>63</td>\n",
       "    </tr>\n",
       "    <tr>\n",
       "      <th>148</th>\n",
       "      <td>149</td>\n",
       "      <td>0.1970</td>\n",
       "      <td>0.40</td>\n",
       "      <td>0.2239</td>\n",
       "      <td>19</td>\n",
       "      <td>48</td>\n",
       "      <td>67</td>\n",
       "    </tr>\n",
       "    <tr>\n",
       "      <th>335</th>\n",
       "      <td>336</td>\n",
       "      <td>0.1970</td>\n",
       "      <td>0.55</td>\n",
       "      <td>0.2239</td>\n",
       "      <td>18</td>\n",
       "      <td>54</td>\n",
       "      <td>72</td>\n",
       "    </tr>\n",
       "    <tr>\n",
       "      <th>337</th>\n",
       "      <td>338</td>\n",
       "      <td>0.2576</td>\n",
       "      <td>0.38</td>\n",
       "      <td>0.2985</td>\n",
       "      <td>21</td>\n",
       "      <td>80</td>\n",
       "      <td>101</td>\n",
       "    </tr>\n",
       "    <tr>\n",
       "      <th>338</th>\n",
       "      <td>339</td>\n",
       "      <td>0.2879</td>\n",
       "      <td>0.39</td>\n",
       "      <td>0.2836</td>\n",
       "      <td>26</td>\n",
       "      <td>92</td>\n",
       "      <td>118</td>\n",
       "    </tr>\n",
       "    <tr>\n",
       "      <th>339</th>\n",
       "      <td>340</td>\n",
       "      <td>0.3182</td>\n",
       "      <td>0.36</td>\n",
       "      <td>0.1940</td>\n",
       "      <td>21</td>\n",
       "      <td>108</td>\n",
       "      <td>129</td>\n",
       "    </tr>\n",
       "    <tr>\n",
       "      <th>340</th>\n",
       "      <td>341</td>\n",
       "      <td>0.3333</td>\n",
       "      <td>0.34</td>\n",
       "      <td>0.1940</td>\n",
       "      <td>33</td>\n",
       "      <td>95</td>\n",
       "      <td>128</td>\n",
       "    </tr>\n",
       "    <tr>\n",
       "      <th>341</th>\n",
       "      <td>342</td>\n",
       "      <td>0.3030</td>\n",
       "      <td>0.36</td>\n",
       "      <td>0.2836</td>\n",
       "      <td>29</td>\n",
       "      <td>54</td>\n",
       "      <td>83</td>\n",
       "    </tr>\n",
       "    <tr>\n",
       "      <th>359</th>\n",
       "      <td>360</td>\n",
       "      <td>0.2273</td>\n",
       "      <td>0.44</td>\n",
       "      <td>0.2537</td>\n",
       "      <td>23</td>\n",
       "      <td>70</td>\n",
       "      <td>93</td>\n",
       "    </tr>\n",
       "    <tr>\n",
       "      <th>360</th>\n",
       "      <td>361</td>\n",
       "      <td>0.2121</td>\n",
       "      <td>0.41</td>\n",
       "      <td>0.2836</td>\n",
       "      <td>29</td>\n",
       "      <td>75</td>\n",
       "      <td>104</td>\n",
       "    </tr>\n",
       "    <tr>\n",
       "      <th>361</th>\n",
       "      <td>362</td>\n",
       "      <td>0.2273</td>\n",
       "      <td>0.35</td>\n",
       "      <td>0.2985</td>\n",
       "      <td>23</td>\n",
       "      <td>95</td>\n",
       "      <td>118</td>\n",
       "    </tr>\n",
       "    <tr>\n",
       "      <th>362</th>\n",
       "      <td>363</td>\n",
       "      <td>0.2727</td>\n",
       "      <td>0.36</td>\n",
       "      <td>0.2537</td>\n",
       "      <td>22</td>\n",
       "      <td>69</td>\n",
       "      <td>91</td>\n",
       "    </tr>\n",
       "    <tr>\n",
       "      <th>363</th>\n",
       "      <td>364</td>\n",
       "      <td>0.2424</td>\n",
       "      <td>0.38</td>\n",
       "      <td>0.2537</td>\n",
       "      <td>35</td>\n",
       "      <td>78</td>\n",
       "      <td>113</td>\n",
       "    </tr>\n",
       "    <tr>\n",
       "      <th>364</th>\n",
       "      <td>365</td>\n",
       "      <td>0.2273</td>\n",
       "      <td>0.38</td>\n",
       "      <td>0.2239</td>\n",
       "      <td>22</td>\n",
       "      <td>77</td>\n",
       "      <td>99</td>\n",
       "    </tr>\n",
       "    <tr>\n",
       "      <th>365</th>\n",
       "      <td>366</td>\n",
       "      <td>0.2121</td>\n",
       "      <td>0.37</td>\n",
       "      <td>0.2537</td>\n",
       "      <td>23</td>\n",
       "      <td>82</td>\n",
       "      <td>105</td>\n",
       "    </tr>\n",
       "    <tr>\n",
       "      <th>387</th>\n",
       "      <td>388</td>\n",
       "      <td>0.2121</td>\n",
       "      <td>0.47</td>\n",
       "      <td>0.1642</td>\n",
       "      <td>21</td>\n",
       "      <td>72</td>\n",
       "      <td>93</td>\n",
       "    </tr>\n",
       "    <tr>\n",
       "      <th>512</th>\n",
       "      <td>513</td>\n",
       "      <td>0.1364</td>\n",
       "      <td>0.43</td>\n",
       "      <td>0.2239</td>\n",
       "      <td>22</td>\n",
       "      <td>77</td>\n",
       "      <td>99</td>\n",
       "    </tr>\n",
       "    <tr>\n",
       "      <th>513</th>\n",
       "      <td>514</td>\n",
       "      <td>0.1212</td>\n",
       "      <td>0.37</td>\n",
       "      <td>0.4627</td>\n",
       "      <td>24</td>\n",
       "      <td>92</td>\n",
       "      <td>116</td>\n",
       "    </tr>\n",
       "    <tr>\n",
       "      <th>515</th>\n",
       "      <td>516</td>\n",
       "      <td>0.1364</td>\n",
       "      <td>0.28</td>\n",
       "      <td>0.3582</td>\n",
       "      <td>17</td>\n",
       "      <td>93</td>\n",
       "      <td>110</td>\n",
       "    </tr>\n",
       "    <tr>\n",
       "      <th>559</th>\n",
       "      <td>560</td>\n",
       "      <td>0.2879</td>\n",
       "      <td>0.56</td>\n",
       "      <td>0.0896</td>\n",
       "      <td>21</td>\n",
       "      <td>85</td>\n",
       "      <td>106</td>\n",
       "    </tr>\n",
       "    <tr>\n",
       "      <th>560</th>\n",
       "      <td>561</td>\n",
       "      <td>0.2727</td>\n",
       "      <td>0.56</td>\n",
       "      <td>0.1343</td>\n",
       "      <td>21</td>\n",
       "      <td>72</td>\n",
       "      <td>93</td>\n",
       "    </tr>\n",
       "    <tr>\n",
       "      <th>562</th>\n",
       "      <td>563</td>\n",
       "      <td>0.3485</td>\n",
       "      <td>0.42</td>\n",
       "      <td>0.0000</td>\n",
       "      <td>21</td>\n",
       "      <td>63</td>\n",
       "      <td>84</td>\n",
       "    </tr>\n",
       "    <tr>\n",
       "      <th>567</th>\n",
       "      <td>568</td>\n",
       "      <td>0.2273</td>\n",
       "      <td>0.65</td>\n",
       "      <td>0.1940</td>\n",
       "      <td>16</td>\n",
       "      <td>103</td>\n",
       "      <td>119</td>\n",
       "    </tr>\n",
       "  </tbody>\n",
       "</table>\n",
       "</div>"
      ],
      "text/plain": [
       "     instant   atemp   hum  windspeed  casual  registered  cnt\n",
       "11        12  0.3333  0.81     0.2836      26          30   56\n",
       "12        13  0.4242  0.77     0.2836      29          55   84\n",
       "13        14  0.4545  0.72     0.2985      47          47   94\n",
       "14        15  0.4545  0.72     0.2836      35          71  106\n",
       "15        16  0.4394  0.77     0.2985      40          70  110\n",
       "16        17  0.4242  0.82     0.2985      41          52   93\n",
       "34        35  0.3333  0.71     0.2537      16          54   70\n",
       "35        36  0.3333  0.66     0.2985      20          73   93\n",
       "38        39  0.3333  0.81     0.1642      19          55   74\n",
       "81        82  0.2273  0.56     0.1940      18          79   97\n",
       "83        84  0.2727  0.52     0.2537      17          48   65\n",
       "145      146  0.1970  0.51     0.2537      20         190  210\n",
       "147      148  0.1970  0.37     0.3284      16          47   63\n",
       "148      149  0.1970  0.40     0.2239      19          48   67\n",
       "335      336  0.1970  0.55     0.2239      18          54   72\n",
       "337      338  0.2576  0.38     0.2985      21          80  101\n",
       "338      339  0.2879  0.39     0.2836      26          92  118\n",
       "339      340  0.3182  0.36     0.1940      21         108  129\n",
       "340      341  0.3333  0.34     0.1940      33          95  128\n",
       "341      342  0.3030  0.36     0.2836      29          54   83\n",
       "359      360  0.2273  0.44     0.2537      23          70   93\n",
       "360      361  0.2121  0.41     0.2836      29          75  104\n",
       "361      362  0.2273  0.35     0.2985      23          95  118\n",
       "362      363  0.2727  0.36     0.2537      22          69   91\n",
       "363      364  0.2424  0.38     0.2537      35          78  113\n",
       "364      365  0.2273  0.38     0.2239      22          77   99\n",
       "365      366  0.2121  0.37     0.2537      23          82  105\n",
       "387      388  0.2121  0.47     0.1642      21          72   93\n",
       "512      513  0.1364  0.43     0.2239      22          77   99\n",
       "513      514  0.1212  0.37     0.4627      24          92  116\n",
       "515      516  0.1364  0.28     0.3582      17          93  110\n",
       "559      560  0.2879  0.56     0.0896      21          85  106\n",
       "560      561  0.2727  0.56     0.1343      21          72   93\n",
       "562      563  0.3485  0.42     0.0000      21          63   84\n",
       "567      568  0.2273  0.65     0.1940      16         103  119"
      ]
     },
     "execution_count": 58,
     "metadata": {},
     "output_type": "execute_result"
    }
   ],
   "source": [
    " data2[data2['casual'] > upper_range]"
   ]
  },
  {
   "cell_type": "code",
   "execution_count": 59,
   "id": "cf7ca721",
   "metadata": {},
   "outputs": [
    {
     "data": {
      "text/html": [
       "<div>\n",
       "<style scoped>\n",
       "    .dataframe tbody tr th:only-of-type {\n",
       "        vertical-align: middle;\n",
       "    }\n",
       "\n",
       "    .dataframe tbody tr th {\n",
       "        vertical-align: top;\n",
       "    }\n",
       "\n",
       "    .dataframe thead th {\n",
       "        text-align: right;\n",
       "    }\n",
       "</style>\n",
       "<table border=\"1\" class=\"dataframe\">\n",
       "  <thead>\n",
       "    <tr style=\"text-align: right;\">\n",
       "      <th></th>\n",
       "      <th>instant</th>\n",
       "      <th>atemp</th>\n",
       "      <th>hum</th>\n",
       "      <th>windspeed</th>\n",
       "      <th>casual</th>\n",
       "      <th>registered</th>\n",
       "      <th>cnt</th>\n",
       "    </tr>\n",
       "  </thead>\n",
       "  <tbody>\n",
       "  </tbody>\n",
       "</table>\n",
       "</div>"
      ],
      "text/plain": [
       "Empty DataFrame\n",
       "Columns: [instant, atemp, hum, windspeed, casual, registered, cnt]\n",
       "Index: []"
      ]
     },
     "execution_count": 59,
     "metadata": {},
     "output_type": "execute_result"
    }
   ],
   "source": [
    "data2.loc[data2['casual'] <= lower_range]"
   ]
  },
  {
   "cell_type": "code",
   "execution_count": 60,
   "id": "47e9c2db",
   "metadata": {},
   "outputs": [],
   "source": [
    "### Removing outlier with the Capping"
   ]
  },
  {
   "cell_type": "code",
   "execution_count": 61,
   "id": "58f2e358",
   "metadata": {},
   "outputs": [],
   "source": [
    "data2['casual'] = np.where(data2['casual'] > upper_range, 15, data2['casual'])"
   ]
  },
  {
   "cell_type": "code",
   "execution_count": 62,
   "id": "b5675c65",
   "metadata": {},
   "outputs": [
    {
     "data": {
      "text/plain": [
       "<Axes: >"
      ]
     },
     "execution_count": 62,
     "metadata": {},
     "output_type": "execute_result"
    },
    {
     "data": {
      "image/png": "[encoded data removed]",
      "text/plain": [
       "<Figure size 640x480 with 1 Axes>"
      ]
     },
     "metadata": {},
     "output_type": "display_data"
    }
   ],
   "source": [
    "sns.boxplot(data2['casual'])\n"
   ]
  },
  {
   "cell_type": "code",
   "execution_count": 63,
   "id": "4c49ae8d",
   "metadata": {},
   "outputs": [
    {
     "data": {
      "text/plain": [
       "56.0"
      ]
     },
     "execution_count": 63,
     "metadata": {},
     "output_type": "execute_result"
    }
   ],
   "source": [
    "### IQR for registered\n",
    "Q1, Q3 =  np.percentile(data2['registered'] , [25,75])\n",
    "IQR = Q3-Q1\n",
    "IQR"
   ]
  },
  {
   "cell_type": "code",
   "execution_count": 64,
   "id": "8538c949",
   "metadata": {},
   "outputs": [
    {
     "data": {
      "text/plain": [
       "(154.0, -70.0)"
      ]
     },
     "execution_count": 64,
     "metadata": {},
     "output_type": "execute_result"
    }
   ],
   "source": [
    "upper_range = Q3+1.5*(IQR)\n",
    "lower_range = Q1-1.5*(IQR)\n",
    "upper_range , lower_range"
   ]
  },
  {
   "cell_type": "code",
   "execution_count": 65,
   "id": "bb7070e4",
   "metadata": {},
   "outputs": [
    {
     "data": {
      "text/plain": [
       "<Axes: >"
      ]
     },
     "execution_count": 65,
     "metadata": {},
     "output_type": "execute_result"
    },
    {
     "data": {
      "image/png": "[encoded data removed]",
      "text/plain": [
       "<Figure size 640x480 with 1 Axes>"
      ]
     },
     "metadata": {},
     "output_type": "display_data"
    }
   ],
   "source": [
    "sns.boxplot(data2['registered'])"
   ]
  },
  {
   "cell_type": "code",
   "execution_count": 66,
   "id": "cd492e71",
   "metadata": {},
   "outputs": [],
   "source": [
    "### removing outliers with caping"
   ]
  },
  {
   "cell_type": "code",
   "execution_count": 67,
   "id": "04477bca",
   "metadata": {},
   "outputs": [],
   "source": [
    "data2['registered'] = np.where ( data2['registered'] > upper_range , 154 , data2['registered'])"
   ]
  },
  {
   "cell_type": "code",
   "execution_count": 68,
   "id": "8d802378",
   "metadata": {},
   "outputs": [
    {
     "data": {
      "text/plain": [
       "<Axes: >"
      ]
     },
     "execution_count": 68,
     "metadata": {},
     "output_type": "execute_result"
    },
    {
     "data": {
      "image/png": "[encoded data removed]",
      "text/plain": [
       "<Figure size 640x480 with 1 Axes>"
      ]
     },
     "metadata": {},
     "output_type": "display_data"
    }
   ],
   "source": [
    "sns.boxplot(data2['registered'])"
   ]
  },
  {
   "cell_type": "code",
   "execution_count": null,
   "id": "9ebaa15d",
   "metadata": {},
   "outputs": [],
   "source": []
  },
  {
   "cell_type": "code",
   "execution_count": 69,
   "id": "eaedd593",
   "metadata": {},
   "outputs": [
    {
     "data": {
      "text/plain": [
       "63.75"
      ]
     },
     "execution_count": 69,
     "metadata": {},
     "output_type": "execute_result"
    }
   ],
   "source": [
    "### IQR for cnt\n",
    "Q1, Q3 =  np.percentile(data2['cnt'] , [25,75])\n",
    "IQR = Q3-Q1\n",
    "IQR"
   ]
  },
  {
   "cell_type": "code",
   "execution_count": 70,
   "id": "f44cb65a",
   "metadata": {},
   "outputs": [
    {
     "data": {
      "text/plain": [
       "(175.375, -79.625)"
      ]
     },
     "execution_count": 70,
     "metadata": {},
     "output_type": "execute_result"
    }
   ],
   "source": [
    "upper_range = Q3+1.5*(IQR)\n",
    "lower_range = Q1-1.5*(IQR)\n",
    "upper_range , lower_range"
   ]
  },
  {
   "cell_type": "code",
   "execution_count": 71,
   "id": "d99289b2",
   "metadata": {},
   "outputs": [
    {
     "data": {
      "text/plain": [
       "<Axes: >"
      ]
     },
     "execution_count": 71,
     "metadata": {},
     "output_type": "execute_result"
    },
    {
     "data": {
      "image/png": "[encoded data removed]",
      "text/plain": [
       "<Figure size 640x480 with 1 Axes>"
      ]
     },
     "metadata": {},
     "output_type": "display_data"
    }
   ],
   "source": [
    "sns.boxplot(data2['cnt'])"
   ]
  },
  {
   "cell_type": "code",
   "execution_count": 72,
   "id": "37f78ff8",
   "metadata": {},
   "outputs": [],
   "source": [
    "data2['cnt'] = np.where(data2['cnt'] > upper_range ,175 ,data2['cnt'])"
   ]
  },
  {
   "cell_type": "code",
   "execution_count": 73,
   "id": "731c9bbd",
   "metadata": {},
   "outputs": [
    {
     "data": {
      "text/plain": [
       "<Axes: >"
      ]
     },
     "execution_count": 73,
     "metadata": {},
     "output_type": "execute_result"
    },
    {
     "data": {
      "image/png": "[encoded data removed]",
      "text/plain": [
       "<Figure size 640x480 with 1 Axes>"
      ]
     },
     "metadata": {},
     "output_type": "display_data"
    }
   ],
   "source": [
    "sns.boxplot(data2['cnt'])"
   ]
  },
  {
   "cell_type": "code",
   "execution_count": 74,
   "id": "57c649e3",
   "metadata": {},
   "outputs": [
    {
     "data": {
      "text/plain": [
       "instant       0.000000\n",
       "atemp         0.560652\n",
       "hum           0.609553\n",
       "windspeed     0.339029\n",
       "casual        1.194372\n",
       "registered    0.968884\n",
       "cnt           0.940233\n",
       "dtype: float64"
      ]
     },
     "execution_count": 74,
     "metadata": {},
     "output_type": "execute_result"
    }
   ],
   "source": [
    "data2.skew()"
   ]
  },
  {
   "cell_type": "code",
   "execution_count": 75,
   "id": "8daed7d4",
   "metadata": {},
   "outputs": [
    {
     "data": {
      "text/plain": [
       "(610, 7)"
      ]
     },
     "execution_count": 75,
     "metadata": {},
     "output_type": "execute_result"
    }
   ],
   "source": [
    "data2.shape"
   ]
  },
  {
   "cell_type": "code",
   "execution_count": 76,
   "id": "4061bf6a",
   "metadata": {},
   "outputs": [],
   "source": [
    "merge_data = data1.merge(data2 , on ='instant',how ='inner')"
   ]
  },
  {
   "cell_type": "code",
   "execution_count": 77,
   "id": "a68b2fcc",
   "metadata": {},
   "outputs": [
    {
     "data": {
      "text/html": [
       "<div>\n",
       "<style scoped>\n",
       "    .dataframe tbody tr th:only-of-type {\n",
       "        vertical-align: middle;\n",
       "    }\n",
       "\n",
       "    .dataframe tbody tr th {\n",
       "        vertical-align: top;\n",
       "    }\n",
       "\n",
       "    .dataframe thead th {\n",
       "        text-align: right;\n",
       "    }\n",
       "</style>\n",
       "<table border=\"1\" class=\"dataframe\">\n",
       "  <thead>\n",
       "    <tr style=\"text-align: right;\">\n",
       "      <th></th>\n",
       "      <th>instant</th>\n",
       "      <th>dteday</th>\n",
       "      <th>season</th>\n",
       "      <th>yr</th>\n",
       "      <th>mnth</th>\n",
       "      <th>hr</th>\n",
       "      <th>holiday</th>\n",
       "      <th>weekday</th>\n",
       "      <th>weathersit</th>\n",
       "      <th>temp</th>\n",
       "      <th>atemp</th>\n",
       "      <th>hum</th>\n",
       "      <th>windspeed</th>\n",
       "      <th>casual</th>\n",
       "      <th>registered</th>\n",
       "      <th>cnt</th>\n",
       "    </tr>\n",
       "  </thead>\n",
       "  <tbody>\n",
       "    <tr>\n",
       "      <th>0</th>\n",
       "      <td>1</td>\n",
       "      <td>20110101</td>\n",
       "      <td>1</td>\n",
       "      <td>0</td>\n",
       "      <td>1</td>\n",
       "      <td>0</td>\n",
       "      <td>0</td>\n",
       "      <td>6</td>\n",
       "      <td>1</td>\n",
       "      <td>0.24</td>\n",
       "      <td>0.2879</td>\n",
       "      <td>0.81</td>\n",
       "      <td>0.0</td>\n",
       "      <td>3</td>\n",
       "      <td>13</td>\n",
       "      <td>16</td>\n",
       "    </tr>\n",
       "    <tr>\n",
       "      <th>1</th>\n",
       "      <td>2</td>\n",
       "      <td>20110101</td>\n",
       "      <td>1</td>\n",
       "      <td>0</td>\n",
       "      <td>1</td>\n",
       "      <td>1</td>\n",
       "      <td>0</td>\n",
       "      <td>6</td>\n",
       "      <td>1</td>\n",
       "      <td>0.22</td>\n",
       "      <td>0.2727</td>\n",
       "      <td>0.80</td>\n",
       "      <td>0.0</td>\n",
       "      <td>8</td>\n",
       "      <td>32</td>\n",
       "      <td>40</td>\n",
       "    </tr>\n",
       "    <tr>\n",
       "      <th>2</th>\n",
       "      <td>3</td>\n",
       "      <td>20110101</td>\n",
       "      <td>1</td>\n",
       "      <td>0</td>\n",
       "      <td>1</td>\n",
       "      <td>2</td>\n",
       "      <td>0</td>\n",
       "      <td>6</td>\n",
       "      <td>1</td>\n",
       "      <td>0.22</td>\n",
       "      <td>0.2727</td>\n",
       "      <td>0.80</td>\n",
       "      <td>0.0</td>\n",
       "      <td>5</td>\n",
       "      <td>27</td>\n",
       "      <td>32</td>\n",
       "    </tr>\n",
       "    <tr>\n",
       "      <th>3</th>\n",
       "      <td>4</td>\n",
       "      <td>20110101</td>\n",
       "      <td>1</td>\n",
       "      <td>0</td>\n",
       "      <td>1</td>\n",
       "      <td>3</td>\n",
       "      <td>0</td>\n",
       "      <td>6</td>\n",
       "      <td>1</td>\n",
       "      <td>0.24</td>\n",
       "      <td>0.2879</td>\n",
       "      <td>0.75</td>\n",
       "      <td>0.0</td>\n",
       "      <td>3</td>\n",
       "      <td>10</td>\n",
       "      <td>13</td>\n",
       "    </tr>\n",
       "    <tr>\n",
       "      <th>4</th>\n",
       "      <td>5</td>\n",
       "      <td>20110101</td>\n",
       "      <td>1</td>\n",
       "      <td>0</td>\n",
       "      <td>1</td>\n",
       "      <td>4</td>\n",
       "      <td>0</td>\n",
       "      <td>6</td>\n",
       "      <td>1</td>\n",
       "      <td>0.24</td>\n",
       "      <td>0.2879</td>\n",
       "      <td>0.75</td>\n",
       "      <td>0.0</td>\n",
       "      <td>0</td>\n",
       "      <td>1</td>\n",
       "      <td>1</td>\n",
       "    </tr>\n",
       "  </tbody>\n",
       "</table>\n",
       "</div>"
      ],
      "text/plain": [
       "   instant    dteday  season  yr  mnth  hr  holiday  weekday  weathersit  \\\n",
       "0        1  20110101       1   0     1   0        0        6           1   \n",
       "1        2  20110101       1   0     1   1        0        6           1   \n",
       "2        3  20110101       1   0     1   2        0        6           1   \n",
       "3        4  20110101       1   0     1   3        0        6           1   \n",
       "4        5  20110101       1   0     1   4        0        6           1   \n",
       "\n",
       "   temp   atemp   hum  windspeed  casual  registered  cnt  \n",
       "0  0.24  0.2879  0.81        0.0       3          13   16  \n",
       "1  0.22  0.2727  0.80        0.0       8          32   40  \n",
       "2  0.22  0.2727  0.80        0.0       5          27   32  \n",
       "3  0.24  0.2879  0.75        0.0       3          10   13  \n",
       "4  0.24  0.2879  0.75        0.0       0           1    1  "
      ]
     },
     "execution_count": 77,
     "metadata": {},
     "output_type": "execute_result"
    }
   ],
   "source": [
    "merge_data.head()"
   ]
  },
  {
   "cell_type": "code",
   "execution_count": 78,
   "id": "90c5e219",
   "metadata": {},
   "outputs": [
    {
     "data": {
      "text/plain": [
       "(610, 16)"
      ]
     },
     "execution_count": 78,
     "metadata": {},
     "output_type": "execute_result"
    }
   ],
   "source": [
    "merge_data.shape"
   ]
  },
  {
   "cell_type": "code",
   "execution_count": 79,
   "id": "d612916c",
   "metadata": {},
   "outputs": [
    {
     "data": {
      "text/plain": [
       "instant       0\n",
       "dteday        0\n",
       "season        0\n",
       "yr            0\n",
       "mnth          0\n",
       "hr            0\n",
       "holiday       0\n",
       "weekday       0\n",
       "weathersit    0\n",
       "temp          0\n",
       "atemp         0\n",
       "hum           0\n",
       "windspeed     0\n",
       "casual        0\n",
       "registered    0\n",
       "cnt           0\n",
       "dtype: int64"
      ]
     },
     "execution_count": 79,
     "metadata": {},
     "output_type": "execute_result"
    }
   ],
   "source": [
    "merge_data.isnull().sum()"
   ]
  },
  {
   "cell_type": "code",
   "execution_count": 80,
   "id": "50e77bdf",
   "metadata": {},
   "outputs": [
    {
     "data": {
      "text/plain": [
       "instant         int64\n",
       "dteday          int32\n",
       "season          int64\n",
       "yr              int64\n",
       "mnth            int64\n",
       "hr              int64\n",
       "holiday         int32\n",
       "weekday         int64\n",
       "weathersit      int64\n",
       "temp          float64\n",
       "atemp         float64\n",
       "hum           float64\n",
       "windspeed     float64\n",
       "casual          int64\n",
       "registered      int64\n",
       "cnt             int64\n",
       "dtype: object"
      ]
     },
     "execution_count": 80,
     "metadata": {},
     "output_type": "execute_result"
    }
   ],
   "source": [
    "merge_data.dtypes"
   ]
  },
  {
   "cell_type": "code",
   "execution_count": 81,
   "id": "8f6cf153",
   "metadata": {},
   "outputs": [
    {
     "name": "stdout",
     "output_type": "stream",
     "text": [
      "<class 'pandas.core.frame.DataFrame'>\n",
      "RangeIndex: 610 entries, 0 to 609\n",
      "Data columns (total 16 columns):\n",
      " #   Column      Non-Null Count  Dtype  \n",
      "---  ------      --------------  -----  \n",
      " 0   instant     610 non-null    int64  \n",
      " 1   dteday      610 non-null    int32  \n",
      " 2   season      610 non-null    int64  \n",
      " 3   yr          610 non-null    int64  \n",
      " 4   mnth        610 non-null    int64  \n",
      " 5   hr          610 non-null    int64  \n",
      " 6   holiday     610 non-null    int32  \n",
      " 7   weekday     610 non-null    int64  \n",
      " 8   weathersit  610 non-null    int64  \n",
      " 9   temp        610 non-null    float64\n",
      " 10  atemp       610 non-null    float64\n",
      " 11  hum         610 non-null    float64\n",
      " 12  windspeed   610 non-null    float64\n",
      " 13  casual      610 non-null    int64  \n",
      " 14  registered  610 non-null    int64  \n",
      " 15  cnt         610 non-null    int64  \n",
      "dtypes: float64(4), int32(2), int64(10)\n",
      "memory usage: 71.6 KB\n"
     ]
    }
   ],
   "source": [
    "merge_data.info()"
   ]
  },
  {
   "cell_type": "code",
   "execution_count": 82,
   "id": "f60280e4",
   "metadata": {},
   "outputs": [
    {
     "data": {
      "text/plain": [
       "<Axes: >"
      ]
     },
     "execution_count": 82,
     "metadata": {},
     "output_type": "execute_result"
    },
    {
     "data": {
      "image/png": "[encoded data removed]",
      "text/plain": [
       "<Figure size 640x480 with 1 Axes>"
      ]
     },
     "metadata": {},
     "output_type": "display_data"
    }
   ],
   "source": [
    "sns.boxplot(merge_data)"
   ]
  },
  {
   "cell_type": "code",
   "execution_count": 83,
   "id": "7d718ca3",
   "metadata": {},
   "outputs": [
    {
     "data": {
      "text/plain": [
       "<Axes: >"
      ]
     },
     "execution_count": 83,
     "metadata": {},
     "output_type": "execute_result"
    },
    {
     "data": {
      "image/png": "[encoded data removed]",
      "text/plain": [
       "<Figure size 640x480 with 1 Axes>"
      ]
     },
     "metadata": {},
     "output_type": "display_data"
    }
   ],
   "source": [
    "sns.boxplot(merge_data['cnt'])"
   ]
  },
  {
   "cell_type": "code",
   "execution_count": 84,
   "id": "e0a048d1",
   "metadata": {},
   "outputs": [
    {
     "data": {
      "text/plain": [
       "<Axes: >"
      ]
     },
     "execution_count": 84,
     "metadata": {},
     "output_type": "execute_result"
    },
    {
     "data": {
      "image/png": "[encoded data removed]",
      "text/plain": [
       "<Figure size 640x480 with 1 Axes>"
      ]
     },
     "metadata": {},
     "output_type": "display_data"
    }
   ],
   "source": [
    "sns.boxplot(merge_data['casual'])"
   ]
  },
  {
   "cell_type": "code",
   "execution_count": 85,
   "id": "2c2ee901",
   "metadata": {},
   "outputs": [
    {
     "data": {
      "text/plain": [
       "<Axes: >"
      ]
     },
     "execution_count": 85,
     "metadata": {},
     "output_type": "execute_result"
    },
    {
     "data": {
      "image/png": "[encoded data removed]",
      "text/plain": [
       "<Figure size 640x480 with 1 Axes>"
      ]
     },
     "metadata": {},
     "output_type": "display_data"
    }
   ],
   "source": [
    "sns.boxplot(merge_data['registered'])"
   ]
  },
  {
   "cell_type": "code",
   "execution_count": 86,
   "id": "39dfe209",
   "metadata": {},
   "outputs": [],
   "source": [
    "data3 = pd.read_csv('dataset_3 - dataset_3.csv')"
   ]
  },
  {
   "cell_type": "code",
   "execution_count": 87,
   "id": "42e3e73e",
   "metadata": {},
   "outputs": [
    {
     "data": {
      "text/html": [
       "<div>\n",
       "<style scoped>\n",
       "    .dataframe tbody tr th:only-of-type {\n",
       "        vertical-align: middle;\n",
       "    }\n",
       "\n",
       "    .dataframe tbody tr th {\n",
       "        vertical-align: top;\n",
       "    }\n",
       "\n",
       "    .dataframe thead th {\n",
       "        text-align: right;\n",
       "    }\n",
       "</style>\n",
       "<table border=\"1\" class=\"dataframe\">\n",
       "  <thead>\n",
       "    <tr style=\"text-align: right;\">\n",
       "      <th></th>\n",
       "      <th>instant</th>\n",
       "      <th>dteday</th>\n",
       "      <th>season</th>\n",
       "      <th>yr</th>\n",
       "      <th>mnth</th>\n",
       "      <th>hr</th>\n",
       "      <th>holiday</th>\n",
       "      <th>weekday</th>\n",
       "      <th>weathersit</th>\n",
       "      <th>temp</th>\n",
       "      <th>atemp</th>\n",
       "      <th>hum</th>\n",
       "      <th>windspeed</th>\n",
       "      <th>casual</th>\n",
       "      <th>registered</th>\n",
       "      <th>cnt</th>\n",
       "    </tr>\n",
       "  </thead>\n",
       "  <tbody>\n",
       "    <tr>\n",
       "      <th>0</th>\n",
       "      <td>620</td>\n",
       "      <td>29-01-2011</td>\n",
       "      <td>1</td>\n",
       "      <td>0</td>\n",
       "      <td>1</td>\n",
       "      <td>1</td>\n",
       "      <td>False</td>\n",
       "      <td>6</td>\n",
       "      <td>1</td>\n",
       "      <td>0.22</td>\n",
       "      <td>0.2273</td>\n",
       "      <td>0.64</td>\n",
       "      <td>0.1940</td>\n",
       "      <td>0</td>\n",
       "      <td>20</td>\n",
       "      <td>20</td>\n",
       "    </tr>\n",
       "    <tr>\n",
       "      <th>1</th>\n",
       "      <td>621</td>\n",
       "      <td>29-01-2011</td>\n",
       "      <td>1</td>\n",
       "      <td>0</td>\n",
       "      <td>1</td>\n",
       "      <td>2</td>\n",
       "      <td>False</td>\n",
       "      <td>6</td>\n",
       "      <td>1</td>\n",
       "      <td>0.22</td>\n",
       "      <td>0.2273</td>\n",
       "      <td>0.64</td>\n",
       "      <td>0.1642</td>\n",
       "      <td>0</td>\n",
       "      <td>15</td>\n",
       "      <td>15</td>\n",
       "    </tr>\n",
       "    <tr>\n",
       "      <th>2</th>\n",
       "      <td>622</td>\n",
       "      <td>29-01-2011</td>\n",
       "      <td>1</td>\n",
       "      <td>0</td>\n",
       "      <td>1</td>\n",
       "      <td>3</td>\n",
       "      <td>False</td>\n",
       "      <td>6</td>\n",
       "      <td>1</td>\n",
       "      <td>0.20</td>\n",
       "      <td>0.2121</td>\n",
       "      <td>0.64</td>\n",
       "      <td>0.1343</td>\n",
       "      <td>3</td>\n",
       "      <td>5</td>\n",
       "      <td>8</td>\n",
       "    </tr>\n",
       "    <tr>\n",
       "      <th>3</th>\n",
       "      <td>623</td>\n",
       "      <td>29-01-2011</td>\n",
       "      <td>1</td>\n",
       "      <td>0</td>\n",
       "      <td>1</td>\n",
       "      <td>4</td>\n",
       "      <td>False</td>\n",
       "      <td>6</td>\n",
       "      <td>1</td>\n",
       "      <td>0.16</td>\n",
       "      <td>0.1818</td>\n",
       "      <td>0.69</td>\n",
       "      <td>0.1045</td>\n",
       "      <td>1</td>\n",
       "      <td>2</td>\n",
       "      <td>3</td>\n",
       "    </tr>\n",
       "    <tr>\n",
       "      <th>4</th>\n",
       "      <td>624</td>\n",
       "      <td>29-01-2011</td>\n",
       "      <td>1</td>\n",
       "      <td>0</td>\n",
       "      <td>1</td>\n",
       "      <td>6</td>\n",
       "      <td>False</td>\n",
       "      <td>6</td>\n",
       "      <td>1</td>\n",
       "      <td>0.16</td>\n",
       "      <td>0.1818</td>\n",
       "      <td>0.64</td>\n",
       "      <td>0.1343</td>\n",
       "      <td>0</td>\n",
       "      <td>2</td>\n",
       "      <td>2</td>\n",
       "    </tr>\n",
       "  </tbody>\n",
       "</table>\n",
       "</div>"
      ],
      "text/plain": [
       "   instant      dteday  season  yr  mnth  hr  holiday  weekday  weathersit  \\\n",
       "0      620  29-01-2011       1   0     1   1    False        6           1   \n",
       "1      621  29-01-2011       1   0     1   2    False        6           1   \n",
       "2      622  29-01-2011       1   0     1   3    False        6           1   \n",
       "3      623  29-01-2011       1   0     1   4    False        6           1   \n",
       "4      624  29-01-2011       1   0     1   6    False        6           1   \n",
       "\n",
       "   temp   atemp   hum  windspeed  casual  registered  cnt  \n",
       "0  0.22  0.2273  0.64     0.1940       0          20   20  \n",
       "1  0.22  0.2273  0.64     0.1642       0          15   15  \n",
       "2  0.20  0.2121  0.64     0.1343       3           5    8  \n",
       "3  0.16  0.1818  0.69     0.1045       1           2    3  \n",
       "4  0.16  0.1818  0.64     0.1343       0           2    2  "
      ]
     },
     "execution_count": 87,
     "metadata": {},
     "output_type": "execute_result"
    }
   ],
   "source": [
    "data3.head()"
   ]
  },
  {
   "cell_type": "code",
   "execution_count": 88,
   "id": "8b18cc6e",
   "metadata": {},
   "outputs": [
    {
     "data": {
      "text/plain": [
       "(390, 16)"
      ]
     },
     "execution_count": 88,
     "metadata": {},
     "output_type": "execute_result"
    }
   ],
   "source": [
    "data3.shape"
   ]
  },
  {
   "cell_type": "code",
   "execution_count": 89,
   "id": "04c686f4",
   "metadata": {},
   "outputs": [
    {
     "data": {
      "text/plain": [
       "instant       0\n",
       "dteday        0\n",
       "season        0\n",
       "yr            0\n",
       "mnth          0\n",
       "hr            0\n",
       "holiday       0\n",
       "weekday       0\n",
       "weathersit    0\n",
       "temp          0\n",
       "atemp         0\n",
       "hum           0\n",
       "windspeed     0\n",
       "casual        0\n",
       "registered    0\n",
       "cnt           0\n",
       "dtype: int64"
      ]
     },
     "execution_count": 89,
     "metadata": {},
     "output_type": "execute_result"
    }
   ],
   "source": [
    "data3.isnull().sum()"
   ]
  },
  {
   "cell_type": "code",
   "execution_count": 90,
   "id": "44158a0f",
   "metadata": {},
   "outputs": [
    {
     "data": {
      "text/plain": [
       "instant         int64\n",
       "dteday         object\n",
       "season          int64\n",
       "yr              int64\n",
       "mnth            int64\n",
       "hr              int64\n",
       "holiday          bool\n",
       "weekday         int64\n",
       "weathersit      int64\n",
       "temp          float64\n",
       "atemp         float64\n",
       "hum           float64\n",
       "windspeed     float64\n",
       "casual          int64\n",
       "registered      int64\n",
       "cnt             int64\n",
       "dtype: object"
      ]
     },
     "execution_count": 90,
     "metadata": {},
     "output_type": "execute_result"
    }
   ],
   "source": [
    "data3.dtypes"
   ]
  },
  {
   "cell_type": "code",
   "execution_count": 91,
   "id": "519372da",
   "metadata": {},
   "outputs": [
    {
     "data": {
      "text/html": [
       "<div>\n",
       "<style scoped>\n",
       "    .dataframe tbody tr th:only-of-type {\n",
       "        vertical-align: middle;\n",
       "    }\n",
       "\n",
       "    .dataframe tbody tr th {\n",
       "        vertical-align: top;\n",
       "    }\n",
       "\n",
       "    .dataframe thead th {\n",
       "        text-align: right;\n",
       "    }\n",
       "</style>\n",
       "<table border=\"1\" class=\"dataframe\">\n",
       "  <thead>\n",
       "    <tr style=\"text-align: right;\">\n",
       "      <th></th>\n",
       "      <th>instant</th>\n",
       "      <th>season</th>\n",
       "      <th>yr</th>\n",
       "      <th>mnth</th>\n",
       "      <th>hr</th>\n",
       "      <th>weekday</th>\n",
       "      <th>weathersit</th>\n",
       "      <th>temp</th>\n",
       "      <th>atemp</th>\n",
       "      <th>hum</th>\n",
       "      <th>windspeed</th>\n",
       "      <th>casual</th>\n",
       "      <th>registered</th>\n",
       "      <th>cnt</th>\n",
       "    </tr>\n",
       "  </thead>\n",
       "  <tbody>\n",
       "    <tr>\n",
       "      <th>count</th>\n",
       "      <td>390.000000</td>\n",
       "      <td>390.0</td>\n",
       "      <td>390.0</td>\n",
       "      <td>390.000000</td>\n",
       "      <td>390.000000</td>\n",
       "      <td>390.000000</td>\n",
       "      <td>390.000000</td>\n",
       "      <td>390.000000</td>\n",
       "      <td>390.000000</td>\n",
       "      <td>390.000000</td>\n",
       "      <td>390.000000</td>\n",
       "      <td>390.000000</td>\n",
       "      <td>390.000000</td>\n",
       "      <td>390.000000</td>\n",
       "    </tr>\n",
       "    <tr>\n",
       "      <th>mean</th>\n",
       "      <td>805.500000</td>\n",
       "      <td>1.0</td>\n",
       "      <td>0.0</td>\n",
       "      <td>1.800000</td>\n",
       "      <td>11.687179</td>\n",
       "      <td>2.989744</td>\n",
       "      <td>1.484615</td>\n",
       "      <td>0.220000</td>\n",
       "      <td>0.230424</td>\n",
       "      <td>0.613769</td>\n",
       "      <td>0.179416</td>\n",
       "      <td>5.576923</td>\n",
       "      <td>57.002564</td>\n",
       "      <td>62.579487</td>\n",
       "    </tr>\n",
       "    <tr>\n",
       "      <th>std</th>\n",
       "      <td>112.727548</td>\n",
       "      <td>0.0</td>\n",
       "      <td>0.0</td>\n",
       "      <td>0.400514</td>\n",
       "      <td>6.980295</td>\n",
       "      <td>2.149884</td>\n",
       "      <td>0.663805</td>\n",
       "      <td>0.073095</td>\n",
       "      <td>0.069455</td>\n",
       "      <td>0.202361</td>\n",
       "      <td>0.138551</td>\n",
       "      <td>9.317478</td>\n",
       "      <td>49.070198</td>\n",
       "      <td>53.274838</td>\n",
       "    </tr>\n",
       "    <tr>\n",
       "      <th>min</th>\n",
       "      <td>611.000000</td>\n",
       "      <td>1.0</td>\n",
       "      <td>0.0</td>\n",
       "      <td>1.000000</td>\n",
       "      <td>0.000000</td>\n",
       "      <td>0.000000</td>\n",
       "      <td>1.000000</td>\n",
       "      <td>0.060000</td>\n",
       "      <td>0.075800</td>\n",
       "      <td>0.210000</td>\n",
       "      <td>0.000000</td>\n",
       "      <td>0.000000</td>\n",
       "      <td>0.000000</td>\n",
       "      <td>1.000000</td>\n",
       "    </tr>\n",
       "    <tr>\n",
       "      <th>25%</th>\n",
       "      <td>708.250000</td>\n",
       "      <td>1.0</td>\n",
       "      <td>0.0</td>\n",
       "      <td>2.000000</td>\n",
       "      <td>6.000000</td>\n",
       "      <td>1.000000</td>\n",
       "      <td>1.000000</td>\n",
       "      <td>0.160000</td>\n",
       "      <td>0.181800</td>\n",
       "      <td>0.450000</td>\n",
       "      <td>0.089600</td>\n",
       "      <td>1.000000</td>\n",
       "      <td>17.000000</td>\n",
       "      <td>18.500000</td>\n",
       "    </tr>\n",
       "    <tr>\n",
       "      <th>50%</th>\n",
       "      <td>805.500000</td>\n",
       "      <td>1.0</td>\n",
       "      <td>0.0</td>\n",
       "      <td>2.000000</td>\n",
       "      <td>12.000000</td>\n",
       "      <td>3.000000</td>\n",
       "      <td>1.000000</td>\n",
       "      <td>0.220000</td>\n",
       "      <td>0.227300</td>\n",
       "      <td>0.600000</td>\n",
       "      <td>0.164200</td>\n",
       "      <td>3.000000</td>\n",
       "      <td>48.000000</td>\n",
       "      <td>52.000000</td>\n",
       "    </tr>\n",
       "    <tr>\n",
       "      <th>75%</th>\n",
       "      <td>902.750000</td>\n",
       "      <td>1.0</td>\n",
       "      <td>0.0</td>\n",
       "      <td>2.000000</td>\n",
       "      <td>18.000000</td>\n",
       "      <td>5.000000</td>\n",
       "      <td>2.000000</td>\n",
       "      <td>0.260000</td>\n",
       "      <td>0.272700</td>\n",
       "      <td>0.750000</td>\n",
       "      <td>0.283600</td>\n",
       "      <td>6.000000</td>\n",
       "      <td>83.750000</td>\n",
       "      <td>88.750000</td>\n",
       "    </tr>\n",
       "    <tr>\n",
       "      <th>max</th>\n",
       "      <td>1000.000000</td>\n",
       "      <td>1.0</td>\n",
       "      <td>0.0</td>\n",
       "      <td>2.000000</td>\n",
       "      <td>23.000000</td>\n",
       "      <td>6.000000</td>\n",
       "      <td>3.000000</td>\n",
       "      <td>0.420000</td>\n",
       "      <td>0.424200</td>\n",
       "      <td>1.000000</td>\n",
       "      <td>0.582100</td>\n",
       "      <td>62.000000</td>\n",
       "      <td>236.000000</td>\n",
       "      <td>243.000000</td>\n",
       "    </tr>\n",
       "  </tbody>\n",
       "</table>\n",
       "</div>"
      ],
      "text/plain": [
       "           instant  season     yr        mnth          hr     weekday  \\\n",
       "count   390.000000   390.0  390.0  390.000000  390.000000  390.000000   \n",
       "mean    805.500000     1.0    0.0    1.800000   11.687179    2.989744   \n",
       "std     112.727548     0.0    0.0    0.400514    6.980295    2.149884   \n",
       "min     611.000000     1.0    0.0    1.000000    0.000000    0.000000   \n",
       "25%     708.250000     1.0    0.0    2.000000    6.000000    1.000000   \n",
       "50%     805.500000     1.0    0.0    2.000000   12.000000    3.000000   \n",
       "75%     902.750000     1.0    0.0    2.000000   18.000000    5.000000   \n",
       "max    1000.000000     1.0    0.0    2.000000   23.000000    6.000000   \n",
       "\n",
       "       weathersit        temp       atemp         hum   windspeed      casual  \\\n",
       "count  390.000000  390.000000  390.000000  390.000000  390.000000  390.000000   \n",
       "mean     1.484615    0.220000    0.230424    0.613769    0.179416    5.576923   \n",
       "std      0.663805    0.073095    0.069455    0.202361    0.138551    9.317478   \n",
       "min      1.000000    0.060000    0.075800    0.210000    0.000000    0.000000   \n",
       "25%      1.000000    0.160000    0.181800    0.450000    0.089600    1.000000   \n",
       "50%      1.000000    0.220000    0.227300    0.600000    0.164200    3.000000   \n",
       "75%      2.000000    0.260000    0.272700    0.750000    0.283600    6.000000   \n",
       "max      3.000000    0.420000    0.424200    1.000000    0.582100   62.000000   \n",
       "\n",
       "       registered         cnt  \n",
       "count  390.000000  390.000000  \n",
       "mean    57.002564   62.579487  \n",
       "std     49.070198   53.274838  \n",
       "min      0.000000    1.000000  \n",
       "25%     17.000000   18.500000  \n",
       "50%     48.000000   52.000000  \n",
       "75%     83.750000   88.750000  \n",
       "max    236.000000  243.000000  "
      ]
     },
     "execution_count": 91,
     "metadata": {},
     "output_type": "execute_result"
    }
   ],
   "source": [
    "data3.describe()"
   ]
  },
  {
   "cell_type": "code",
   "execution_count": 92,
   "id": "2790bd42",
   "metadata": {},
   "outputs": [
    {
     "data": {
      "text/plain": [
       "<Axes: >"
      ]
     },
     "execution_count": 92,
     "metadata": {},
     "output_type": "execute_result"
    },
    {
     "data": {
      "image/png": "[encoded data removed]",
      "text/plain": [
       "<Figure size 640x480 with 1 Axes>"
      ]
     },
     "metadata": {},
     "output_type": "display_data"
    }
   ],
   "source": [
    "sns.boxplot(data3['casual'])"
   ]
  },
  {
   "cell_type": "code",
   "execution_count": 93,
   "id": "df118da6",
   "metadata": {},
   "outputs": [
    {
     "data": {
      "text/plain": [
       "array([ 0,  3,  1,  4, 12,  9, 10, 22, 19,  6,  7, 13, 18, 14,  8,  2,  5,\n",
       "       15, 11, 28, 48, 47, 52, 42, 24, 16, 21, 17, 30, 27, 32, 26, 58, 62,\n",
       "       51, 40], dtype=int64)"
      ]
     },
     "execution_count": 93,
     "metadata": {},
     "output_type": "execute_result"
    }
   ],
   "source": [
    "data3['casual'].unique()"
   ]
  },
  {
   "cell_type": "code",
   "execution_count": 94,
   "id": "0c09dbf0",
   "metadata": {},
   "outputs": [],
   "source": [
    "q1 = np.percentile(data3['casual'] ,  25)\n",
    "q3 = np.percentile(data3['casual'] , 75)"
   ]
  },
  {
   "cell_type": "code",
   "execution_count": 95,
   "id": "2def4fd8",
   "metadata": {},
   "outputs": [
    {
     "data": {
      "text/plain": [
       "(1.0, 6.0)"
      ]
     },
     "execution_count": 95,
     "metadata": {},
     "output_type": "execute_result"
    }
   ],
   "source": [
    "q1 , q3"
   ]
  },
  {
   "cell_type": "code",
   "execution_count": 96,
   "id": "b538a778",
   "metadata": {},
   "outputs": [],
   "source": [
    "iqr = q3-q1"
   ]
  },
  {
   "cell_type": "code",
   "execution_count": 97,
   "id": "6e9031a5",
   "metadata": {},
   "outputs": [],
   "source": [
    "upper_range = q3+1.5*(iqr)\n",
    "lower_range = q1-1.5*(iqr)"
   ]
  },
  {
   "cell_type": "code",
   "execution_count": 98,
   "id": "7d2b185c",
   "metadata": {},
   "outputs": [
    {
     "data": {
      "text/plain": [
       "(-6.5, 13.5)"
      ]
     },
     "execution_count": 98,
     "metadata": {},
     "output_type": "execute_result"
    }
   ],
   "source": [
    "lower_range , upper_range"
   ]
  },
  {
   "cell_type": "code",
   "execution_count": 99,
   "id": "f177fbe5",
   "metadata": {},
   "outputs": [],
   "source": [
    "data3['casual'] = np.where(data3['casual'] > upper_range , 13.5 , data3['casual'])"
   ]
  },
  {
   "cell_type": "code",
   "execution_count": 100,
   "id": "906f1c23",
   "metadata": {},
   "outputs": [
    {
     "data": {
      "text/plain": [
       "<Axes: >"
      ]
     },
     "execution_count": 100,
     "metadata": {},
     "output_type": "execute_result"
    },
    {
     "data": {
      "image/png": "[encoded data removed]",
      "text/plain": [
       "<Figure size 640x480 with 1 Axes>"
      ]
     },
     "metadata": {},
     "output_type": "display_data"
    }
   ],
   "source": [
    "sns.boxplot(data3['casual'])"
   ]
  },
  {
   "cell_type": "code",
   "execution_count": 101,
   "id": "251af6c2",
   "metadata": {},
   "outputs": [
    {
     "data": {
      "text/plain": [
       "<Axes: >"
      ]
     },
     "execution_count": 101,
     "metadata": {},
     "output_type": "execute_result"
    },
    {
     "data": {
      "image/png": "[encoded data removed]",
      "text/plain": [
       "<Figure size 640x480 with 1 Axes>"
      ]
     },
     "metadata": {},
     "output_type": "display_data"
    }
   ],
   "source": [
    "sns.boxplot(data3['cnt'])"
   ]
  },
  {
   "cell_type": "code",
   "execution_count": 102,
   "id": "696ae212",
   "metadata": {},
   "outputs": [],
   "source": [
    "q1 = np.percentile(data3['cnt'] , 25)\n",
    "q3 = np.percentile(data3['cnt'] , 75)"
   ]
  },
  {
   "cell_type": "code",
   "execution_count": 103,
   "id": "8c1f8766",
   "metadata": {},
   "outputs": [
    {
     "data": {
      "text/plain": [
       "70.25"
      ]
     },
     "execution_count": 103,
     "metadata": {},
     "output_type": "execute_result"
    }
   ],
   "source": [
    "iqr = q3-q1\n",
    "iqr"
   ]
  },
  {
   "cell_type": "code",
   "execution_count": 104,
   "id": "572f0323",
   "metadata": {},
   "outputs": [
    {
     "data": {
      "text/plain": [
       "(-86.875, 194.125)"
      ]
     },
     "execution_count": 104,
     "metadata": {},
     "output_type": "execute_result"
    }
   ],
   "source": [
    "upper_range = q3+1.5*(iqr)\n",
    "lower_range = q1-1.5*(iqr)\n",
    "lower_range , upper_range"
   ]
  },
  {
   "cell_type": "code",
   "execution_count": 105,
   "id": "d16437bc",
   "metadata": {},
   "outputs": [],
   "source": [
    "data3['cnt'] = np.where(data3['cnt'] > upper_range , upper_range , data3['cnt'])"
   ]
  },
  {
   "cell_type": "code",
   "execution_count": 106,
   "id": "c6726de5",
   "metadata": {},
   "outputs": [
    {
     "data": {
      "text/plain": [
       "<Axes: >"
      ]
     },
     "execution_count": 106,
     "metadata": {},
     "output_type": "execute_result"
    },
    {
     "data": {
      "image/png": "[encoded data removed]",
      "text/plain": [
       "<Figure size 640x480 with 1 Axes>"
      ]
     },
     "metadata": {},
     "output_type": "display_data"
    }
   ],
   "source": [
    "sns.boxplot(data3['cnt'])"
   ]
  },
  {
   "cell_type": "code",
   "execution_count": 107,
   "id": "7ad13028",
   "metadata": {},
   "outputs": [
    {
     "data": {
      "text/plain": [
       "<Axes: >"
      ]
     },
     "execution_count": 107,
     "metadata": {},
     "output_type": "execute_result"
    },
    {
     "data": {
      "image/png": "[encoded data removed]",
      "text/plain": [
       "<Figure size 640x480 with 1 Axes>"
      ]
     },
     "metadata": {},
     "output_type": "display_data"
    }
   ],
   "source": [
    "sns.boxplot(data3['registered'])"
   ]
  },
  {
   "cell_type": "code",
   "execution_count": 108,
   "id": "07db793a",
   "metadata": {},
   "outputs": [
    {
     "data": {
      "text/plain": [
       "(17.0, 83.75)"
      ]
     },
     "execution_count": 108,
     "metadata": {},
     "output_type": "execute_result"
    }
   ],
   "source": [
    "q1 = np.percentile(data3['registered'], 25)\n",
    "q3 = np.percentile(data3['registered'] , 75)\n",
    "q1 , q3"
   ]
  },
  {
   "cell_type": "code",
   "execution_count": 109,
   "id": "372db3f9",
   "metadata": {},
   "outputs": [
    {
     "data": {
      "text/plain": [
       "66.75"
      ]
     },
     "execution_count": 109,
     "metadata": {},
     "output_type": "execute_result"
    }
   ],
   "source": [
    "iqr = q3-q1\n",
    "iqr"
   ]
  },
  {
   "cell_type": "code",
   "execution_count": 110,
   "id": "5e48f8f2",
   "metadata": {},
   "outputs": [
    {
     "data": {
      "text/plain": [
       "(-83.125, 183.875)"
      ]
     },
     "execution_count": 110,
     "metadata": {},
     "output_type": "execute_result"
    }
   ],
   "source": [
    "upper_range = q3+1.5*(iqr)\n",
    "lower_range = q1-1.5*(iqr)\n",
    "lower_range , upper_range"
   ]
  },
  {
   "cell_type": "code",
   "execution_count": 111,
   "id": "6c6a88db",
   "metadata": {},
   "outputs": [],
   "source": [
    "data3['registered'] =  np.where(data3['registered'] > upper_range , upper_range , data3['registered'])"
   ]
  },
  {
   "cell_type": "code",
   "execution_count": 112,
   "id": "91210381",
   "metadata": {},
   "outputs": [
    {
     "data": {
      "text/plain": [
       "<Axes: >"
      ]
     },
     "execution_count": 112,
     "metadata": {},
     "output_type": "execute_result"
    },
    {
     "data": {
      "image/png": "[encoded data removed]",
      "text/plain": [
       "<Figure size 640x480 with 1 Axes>"
      ]
     },
     "metadata": {},
     "output_type": "display_data"
    }
   ],
   "source": [
    "sns.boxplot(data3['registered'])"
   ]
  },
  {
   "cell_type": "code",
   "execution_count": 113,
   "id": "621a7db6",
   "metadata": {},
   "outputs": [],
   "source": [
    "data3['dteday'] = pd.to_datetime(data3['dteday'],format = '%d-%m-%Y')"
   ]
  },
  {
   "cell_type": "code",
   "execution_count": 114,
   "id": "103634ef",
   "metadata": {},
   "outputs": [],
   "source": [
    "data3['dteday'] = data3['dteday'].dt.strftime('%Y%m%d').astype(int)"
   ]
  },
  {
   "cell_type": "code",
   "execution_count": 115,
   "id": "5bcc2e15",
   "metadata": {},
   "outputs": [
    {
     "data": {
      "text/plain": [
       "instant         int64\n",
       "dteday          int32\n",
       "season          int64\n",
       "yr              int64\n",
       "mnth            int64\n",
       "hr              int64\n",
       "holiday          bool\n",
       "weekday         int64\n",
       "weathersit      int64\n",
       "temp          float64\n",
       "atemp         float64\n",
       "hum           float64\n",
       "windspeed     float64\n",
       "casual        float64\n",
       "registered    float64\n",
       "cnt           float64\n",
       "dtype: object"
      ]
     },
     "execution_count": 115,
     "metadata": {},
     "output_type": "execute_result"
    }
   ],
   "source": [
    "data3.dtypes"
   ]
  },
  {
   "cell_type": "code",
   "execution_count": 116,
   "id": "5b8c715b",
   "metadata": {},
   "outputs": [],
   "source": [
    "### concatenated third dataset with merge data"
   ]
  },
  {
   "cell_type": "code",
   "execution_count": 117,
   "id": "6565f30a",
   "metadata": {},
   "outputs": [],
   "source": [
    "frames = [data3 ,merge_data]\n",
    "final_df = pd.concat(frames)"
   ]
  },
  {
   "cell_type": "code",
   "execution_count": 118,
   "id": "a65ed0f3",
   "metadata": {},
   "outputs": [
    {
     "data": {
      "text/html": [
       "<div>\n",
       "<style scoped>\n",
       "    .dataframe tbody tr th:only-of-type {\n",
       "        vertical-align: middle;\n",
       "    }\n",
       "\n",
       "    .dataframe tbody tr th {\n",
       "        vertical-align: top;\n",
       "    }\n",
       "\n",
       "    .dataframe thead th {\n",
       "        text-align: right;\n",
       "    }\n",
       "</style>\n",
       "<table border=\"1\" class=\"dataframe\">\n",
       "  <thead>\n",
       "    <tr style=\"text-align: right;\">\n",
       "      <th></th>\n",
       "      <th>instant</th>\n",
       "      <th>dteday</th>\n",
       "      <th>season</th>\n",
       "      <th>yr</th>\n",
       "      <th>mnth</th>\n",
       "      <th>hr</th>\n",
       "      <th>holiday</th>\n",
       "      <th>weekday</th>\n",
       "      <th>weathersit</th>\n",
       "      <th>temp</th>\n",
       "      <th>atemp</th>\n",
       "      <th>hum</th>\n",
       "      <th>windspeed</th>\n",
       "      <th>casual</th>\n",
       "      <th>registered</th>\n",
       "      <th>cnt</th>\n",
       "    </tr>\n",
       "  </thead>\n",
       "  <tbody>\n",
       "    <tr>\n",
       "      <th>0</th>\n",
       "      <td>620</td>\n",
       "      <td>20110129</td>\n",
       "      <td>1</td>\n",
       "      <td>0</td>\n",
       "      <td>1</td>\n",
       "      <td>1</td>\n",
       "      <td>0</td>\n",
       "      <td>6</td>\n",
       "      <td>1</td>\n",
       "      <td>0.22</td>\n",
       "      <td>0.2273</td>\n",
       "      <td>0.64</td>\n",
       "      <td>0.1940</td>\n",
       "      <td>0.0</td>\n",
       "      <td>20.0</td>\n",
       "      <td>20.0</td>\n",
       "    </tr>\n",
       "    <tr>\n",
       "      <th>1</th>\n",
       "      <td>621</td>\n",
       "      <td>20110129</td>\n",
       "      <td>1</td>\n",
       "      <td>0</td>\n",
       "      <td>1</td>\n",
       "      <td>2</td>\n",
       "      <td>0</td>\n",
       "      <td>6</td>\n",
       "      <td>1</td>\n",
       "      <td>0.22</td>\n",
       "      <td>0.2273</td>\n",
       "      <td>0.64</td>\n",
       "      <td>0.1642</td>\n",
       "      <td>0.0</td>\n",
       "      <td>15.0</td>\n",
       "      <td>15.0</td>\n",
       "    </tr>\n",
       "  </tbody>\n",
       "</table>\n",
       "</div>"
      ],
      "text/plain": [
       "   instant    dteday  season  yr  mnth  hr  holiday  weekday  weathersit  \\\n",
       "0      620  20110129       1   0     1   1        0        6           1   \n",
       "1      621  20110129       1   0     1   2        0        6           1   \n",
       "\n",
       "   temp   atemp   hum  windspeed  casual  registered   cnt  \n",
       "0  0.22  0.2273  0.64     0.1940     0.0        20.0  20.0  \n",
       "1  0.22  0.2273  0.64     0.1642     0.0        15.0  15.0  "
      ]
     },
     "execution_count": 118,
     "metadata": {},
     "output_type": "execute_result"
    }
   ],
   "source": [
    "final_df.head(2)"
   ]
  },
  {
   "cell_type": "code",
   "execution_count": 119,
   "id": "f6735c46",
   "metadata": {},
   "outputs": [
    {
     "data": {
      "text/plain": [
       "(1000, 16)"
      ]
     },
     "execution_count": 119,
     "metadata": {},
     "output_type": "execute_result"
    }
   ],
   "source": [
    "final_df.shape"
   ]
  },
  {
   "cell_type": "code",
   "execution_count": 120,
   "id": "b628e964",
   "metadata": {},
   "outputs": [
    {
     "data": {
      "text/html": [
       "<div>\n",
       "<style scoped>\n",
       "    .dataframe tbody tr th:only-of-type {\n",
       "        vertical-align: middle;\n",
       "    }\n",
       "\n",
       "    .dataframe tbody tr th {\n",
       "        vertical-align: top;\n",
       "    }\n",
       "\n",
       "    .dataframe thead th {\n",
       "        text-align: right;\n",
       "    }\n",
       "</style>\n",
       "<table border=\"1\" class=\"dataframe\">\n",
       "  <thead>\n",
       "    <tr style=\"text-align: right;\">\n",
       "      <th></th>\n",
       "      <th>instant</th>\n",
       "      <th>dteday</th>\n",
       "      <th>season</th>\n",
       "      <th>yr</th>\n",
       "      <th>mnth</th>\n",
       "      <th>hr</th>\n",
       "      <th>holiday</th>\n",
       "      <th>weekday</th>\n",
       "      <th>weathersit</th>\n",
       "      <th>temp</th>\n",
       "      <th>atemp</th>\n",
       "      <th>hum</th>\n",
       "      <th>windspeed</th>\n",
       "      <th>casual</th>\n",
       "      <th>registered</th>\n",
       "      <th>cnt</th>\n",
       "    </tr>\n",
       "  </thead>\n",
       "  <tbody>\n",
       "    <tr>\n",
       "      <th>count</th>\n",
       "      <td>1000.000000</td>\n",
       "      <td>1.000000e+03</td>\n",
       "      <td>1000.0</td>\n",
       "      <td>1000.0</td>\n",
       "      <td>1000.000000</td>\n",
       "      <td>1000.000000</td>\n",
       "      <td>1000.000000</td>\n",
       "      <td>1000.000000</td>\n",
       "      <td>1000.000000</td>\n",
       "      <td>1000.000000</td>\n",
       "      <td>1000.000000</td>\n",
       "      <td>1000.000000</td>\n",
       "      <td>1000.000000</td>\n",
       "      <td>1000.000000</td>\n",
       "      <td>1000.000000</td>\n",
       "      <td>1000.000000</td>\n",
       "    </tr>\n",
       "    <tr>\n",
       "      <th>mean</th>\n",
       "      <td>500.500000</td>\n",
       "      <td>2.011014e+07</td>\n",
       "      <td>1.0</td>\n",
       "      <td>0.0</td>\n",
       "      <td>1.312000</td>\n",
       "      <td>11.753000</td>\n",
       "      <td>0.024000</td>\n",
       "      <td>2.982000</td>\n",
       "      <td>1.480000</td>\n",
       "      <td>0.205900</td>\n",
       "      <td>0.211826</td>\n",
       "      <td>0.582480</td>\n",
       "      <td>0.194931</td>\n",
       "      <td>4.006500</td>\n",
       "      <td>52.143875</td>\n",
       "      <td>57.477000</td>\n",
       "    </tr>\n",
       "    <tr>\n",
       "      <th>std</th>\n",
       "      <td>288.819436</td>\n",
       "      <td>4.312056e+01</td>\n",
       "      <td>0.0</td>\n",
       "      <td>0.0</td>\n",
       "      <td>0.463542</td>\n",
       "      <td>6.899101</td>\n",
       "      <td>0.153126</td>\n",
       "      <td>2.091423</td>\n",
       "      <td>0.651171</td>\n",
       "      <td>0.078977</td>\n",
       "      <td>0.076290</td>\n",
       "      <td>0.187977</td>\n",
       "      <td>0.129126</td>\n",
       "      <td>4.395171</td>\n",
       "      <td>44.403075</td>\n",
       "      <td>48.641614</td>\n",
       "    </tr>\n",
       "    <tr>\n",
       "      <th>min</th>\n",
       "      <td>1.000000</td>\n",
       "      <td>2.011010e+07</td>\n",
       "      <td>1.0</td>\n",
       "      <td>0.0</td>\n",
       "      <td>1.000000</td>\n",
       "      <td>0.000000</td>\n",
       "      <td>0.000000</td>\n",
       "      <td>0.000000</td>\n",
       "      <td>1.000000</td>\n",
       "      <td>0.020000</td>\n",
       "      <td>0.000000</td>\n",
       "      <td>0.210000</td>\n",
       "      <td>0.000000</td>\n",
       "      <td>0.000000</td>\n",
       "      <td>0.000000</td>\n",
       "      <td>1.000000</td>\n",
       "    </tr>\n",
       "    <tr>\n",
       "      <th>25%</th>\n",
       "      <td>250.750000</td>\n",
       "      <td>2.011011e+07</td>\n",
       "      <td>1.0</td>\n",
       "      <td>0.0</td>\n",
       "      <td>1.000000</td>\n",
       "      <td>6.000000</td>\n",
       "      <td>0.000000</td>\n",
       "      <td>1.000000</td>\n",
       "      <td>1.000000</td>\n",
       "      <td>0.160000</td>\n",
       "      <td>0.166700</td>\n",
       "      <td>0.440000</td>\n",
       "      <td>0.104500</td>\n",
       "      <td>0.000000</td>\n",
       "      <td>15.000000</td>\n",
       "      <td>16.000000</td>\n",
       "    </tr>\n",
       "    <tr>\n",
       "      <th>50%</th>\n",
       "      <td>500.500000</td>\n",
       "      <td>2.011012e+07</td>\n",
       "      <td>1.0</td>\n",
       "      <td>0.0</td>\n",
       "      <td>1.000000</td>\n",
       "      <td>12.000000</td>\n",
       "      <td>0.000000</td>\n",
       "      <td>3.000000</td>\n",
       "      <td>1.000000</td>\n",
       "      <td>0.200000</td>\n",
       "      <td>0.212100</td>\n",
       "      <td>0.550000</td>\n",
       "      <td>0.164200</td>\n",
       "      <td>3.000000</td>\n",
       "      <td>46.000000</td>\n",
       "      <td>49.000000</td>\n",
       "    </tr>\n",
       "    <tr>\n",
       "      <th>75%</th>\n",
       "      <td>750.250000</td>\n",
       "      <td>2.011020e+07</td>\n",
       "      <td>1.0</td>\n",
       "      <td>0.0</td>\n",
       "      <td>2.000000</td>\n",
       "      <td>18.000000</td>\n",
       "      <td>0.000000</td>\n",
       "      <td>5.000000</td>\n",
       "      <td>2.000000</td>\n",
       "      <td>0.240000</td>\n",
       "      <td>0.257600</td>\n",
       "      <td>0.700000</td>\n",
       "      <td>0.283600</td>\n",
       "      <td>6.000000</td>\n",
       "      <td>74.000000</td>\n",
       "      <td>83.000000</td>\n",
       "    </tr>\n",
       "    <tr>\n",
       "      <th>max</th>\n",
       "      <td>1000.000000</td>\n",
       "      <td>2.011021e+07</td>\n",
       "      <td>1.0</td>\n",
       "      <td>0.0</td>\n",
       "      <td>2.000000</td>\n",
       "      <td>23.000000</td>\n",
       "      <td>1.000000</td>\n",
       "      <td>6.000000</td>\n",
       "      <td>4.000000</td>\n",
       "      <td>0.460000</td>\n",
       "      <td>0.454500</td>\n",
       "      <td>1.000000</td>\n",
       "      <td>0.582100</td>\n",
       "      <td>15.000000</td>\n",
       "      <td>183.875000</td>\n",
       "      <td>194.125000</td>\n",
       "    </tr>\n",
       "  </tbody>\n",
       "</table>\n",
       "</div>"
      ],
      "text/plain": [
       "           instant        dteday  season      yr         mnth           hr  \\\n",
       "count  1000.000000  1.000000e+03  1000.0  1000.0  1000.000000  1000.000000   \n",
       "mean    500.500000  2.011014e+07     1.0     0.0     1.312000    11.753000   \n",
       "std     288.819436  4.312056e+01     0.0     0.0     0.463542     6.899101   \n",
       "min       1.000000  2.011010e+07     1.0     0.0     1.000000     0.000000   \n",
       "25%     250.750000  2.011011e+07     1.0     0.0     1.000000     6.000000   \n",
       "50%     500.500000  2.011012e+07     1.0     0.0     1.000000    12.000000   \n",
       "75%     750.250000  2.011020e+07     1.0     0.0     2.000000    18.000000   \n",
       "max    1000.000000  2.011021e+07     1.0     0.0     2.000000    23.000000   \n",
       "\n",
       "           holiday      weekday   weathersit         temp        atemp  \\\n",
       "count  1000.000000  1000.000000  1000.000000  1000.000000  1000.000000   \n",
       "mean      0.024000     2.982000     1.480000     0.205900     0.211826   \n",
       "std       0.153126     2.091423     0.651171     0.078977     0.076290   \n",
       "min       0.000000     0.000000     1.000000     0.020000     0.000000   \n",
       "25%       0.000000     1.000000     1.000000     0.160000     0.166700   \n",
       "50%       0.000000     3.000000     1.000000     0.200000     0.212100   \n",
       "75%       0.000000     5.000000     2.000000     0.240000     0.257600   \n",
       "max       1.000000     6.000000     4.000000     0.460000     0.454500   \n",
       "\n",
       "               hum    windspeed       casual   registered          cnt  \n",
       "count  1000.000000  1000.000000  1000.000000  1000.000000  1000.000000  \n",
       "mean      0.582480     0.194931     4.006500    52.143875    57.477000  \n",
       "std       0.187977     0.129126     4.395171    44.403075    48.641614  \n",
       "min       0.210000     0.000000     0.000000     0.000000     1.000000  \n",
       "25%       0.440000     0.104500     0.000000    15.000000    16.000000  \n",
       "50%       0.550000     0.164200     3.000000    46.000000    49.000000  \n",
       "75%       0.700000     0.283600     6.000000    74.000000    83.000000  \n",
       "max       1.000000     0.582100    15.000000   183.875000   194.125000  "
      ]
     },
     "execution_count": 120,
     "metadata": {},
     "output_type": "execute_result"
    }
   ],
   "source": [
    "final_df.describe()"
   ]
  },
  {
   "cell_type": "code",
   "execution_count": 121,
   "id": "7fb295cb",
   "metadata": {},
   "outputs": [
    {
     "data": {
      "text/plain": [
       "instant         int64\n",
       "dteday          int32\n",
       "season          int64\n",
       "yr              int64\n",
       "mnth            int64\n",
       "hr              int64\n",
       "holiday         int32\n",
       "weekday         int64\n",
       "weathersit      int64\n",
       "temp          float64\n",
       "atemp         float64\n",
       "hum           float64\n",
       "windspeed     float64\n",
       "casual        float64\n",
       "registered    float64\n",
       "cnt           float64\n",
       "dtype: object"
      ]
     },
     "execution_count": 121,
     "metadata": {},
     "output_type": "execute_result"
    }
   ],
   "source": [
    "final_df.dtypes"
   ]
  },
  {
   "cell_type": "code",
   "execution_count": 122,
   "id": "1b048b86",
   "metadata": {},
   "outputs": [
    {
     "data": {
      "text/plain": [
       "instant       0\n",
       "dteday        0\n",
       "season        0\n",
       "yr            0\n",
       "mnth          0\n",
       "hr            0\n",
       "holiday       0\n",
       "weekday       0\n",
       "weathersit    0\n",
       "temp          0\n",
       "atemp         0\n",
       "hum           0\n",
       "windspeed     0\n",
       "casual        0\n",
       "registered    0\n",
       "cnt           0\n",
       "dtype: int64"
      ]
     },
     "execution_count": 122,
     "metadata": {},
     "output_type": "execute_result"
    }
   ],
   "source": [
    "final_df.isnull().sum()"
   ]
  },
  {
   "cell_type": "code",
   "execution_count": 123,
   "id": "1b4e1157",
   "metadata": {},
   "outputs": [
    {
     "data": {
      "text/plain": [
       "<Axes: >"
      ]
     },
     "execution_count": 123,
     "metadata": {},
     "output_type": "execute_result"
    },
    {
     "data": {
      "image/png": "[encoded data removed]",
      "text/plain": [
       "<Figure size 640x480 with 1 Axes>"
      ]
     },
     "metadata": {},
     "output_type": "display_data"
    }
   ],
   "source": [
    "sns.boxplot(final_df)"
   ]
  },
  {
   "cell_type": "code",
   "execution_count": 124,
   "id": "703dec52",
   "metadata": {},
   "outputs": [
    {
     "data": {
      "text/plain": [
       "instant       0.000000\n",
       "dteday        0.726639\n",
       "season        0.000000\n",
       "yr            0.000000\n",
       "mnth          0.812772\n",
       "hr           -0.063524\n",
       "holiday       6.229578\n",
       "weekday       0.021925\n",
       "weathersit    1.044098\n",
       "temp          0.547997\n",
       "atemp         0.435927\n",
       "hum           0.436893\n",
       "windspeed     0.433675\n",
       "casual        1.157973\n",
       "registered    0.982468\n",
       "cnt           0.928023\n",
       "dtype: float64"
      ]
     },
     "execution_count": 124,
     "metadata": {},
     "output_type": "execute_result"
    }
   ],
   "source": [
    "final_df.skew()"
   ]
  },
  {
   "cell_type": "code",
   "execution_count": 125,
   "id": "e2209b64",
   "metadata": {},
   "outputs": [
    {
     "data": {
      "text/html": [
       "<div>\n",
       "<style scoped>\n",
       "    .dataframe tbody tr th:only-of-type {\n",
       "        vertical-align: middle;\n",
       "    }\n",
       "\n",
       "    .dataframe tbody tr th {\n",
       "        vertical-align: top;\n",
       "    }\n",
       "\n",
       "    .dataframe thead th {\n",
       "        text-align: right;\n",
       "    }\n",
       "</style>\n",
       "<table border=\"1\" class=\"dataframe\">\n",
       "  <thead>\n",
       "    <tr style=\"text-align: right;\">\n",
       "      <th></th>\n",
       "      <th>instant</th>\n",
       "      <th>dteday</th>\n",
       "      <th>season</th>\n",
       "      <th>yr</th>\n",
       "      <th>mnth</th>\n",
       "      <th>hr</th>\n",
       "      <th>holiday</th>\n",
       "      <th>weekday</th>\n",
       "      <th>weathersit</th>\n",
       "      <th>temp</th>\n",
       "      <th>atemp</th>\n",
       "      <th>hum</th>\n",
       "      <th>windspeed</th>\n",
       "      <th>casual</th>\n",
       "      <th>registered</th>\n",
       "      <th>cnt</th>\n",
       "    </tr>\n",
       "  </thead>\n",
       "  <tbody>\n",
       "    <tr>\n",
       "      <th>instant</th>\n",
       "      <td>1.000000</td>\n",
       "      <td>0.896134</td>\n",
       "      <td>NaN</td>\n",
       "      <td>NaN</td>\n",
       "      <td>0.802477</td>\n",
       "      <td>0.000060</td>\n",
       "      <td>-0.063013</td>\n",
       "      <td>0.008157</td>\n",
       "      <td>0.030439</td>\n",
       "      <td>0.023406</td>\n",
       "      <td>0.077546</td>\n",
       "      <td>0.062116</td>\n",
       "      <td>-0.057837</td>\n",
       "      <td>0.007046</td>\n",
       "      <td>0.088162</td>\n",
       "      <td>0.086761</td>\n",
       "    </tr>\n",
       "    <tr>\n",
       "      <th>dteday</th>\n",
       "      <td>0.896134</td>\n",
       "      <td>1.000000</td>\n",
       "      <td>NaN</td>\n",
       "      <td>NaN</td>\n",
       "      <td>0.983870</td>\n",
       "      <td>-0.025773</td>\n",
       "      <td>-0.098936</td>\n",
       "      <td>0.028831</td>\n",
       "      <td>0.020457</td>\n",
       "      <td>0.125153</td>\n",
       "      <td>0.166261</td>\n",
       "      <td>0.071512</td>\n",
       "      <td>-0.041106</td>\n",
       "      <td>0.012110</td>\n",
       "      <td>0.088481</td>\n",
       "      <td>0.089176</td>\n",
       "    </tr>\n",
       "    <tr>\n",
       "      <th>season</th>\n",
       "      <td>NaN</td>\n",
       "      <td>NaN</td>\n",
       "      <td>NaN</td>\n",
       "      <td>NaN</td>\n",
       "      <td>NaN</td>\n",
       "      <td>NaN</td>\n",
       "      <td>NaN</td>\n",
       "      <td>NaN</td>\n",
       "      <td>NaN</td>\n",
       "      <td>NaN</td>\n",
       "      <td>NaN</td>\n",
       "      <td>NaN</td>\n",
       "      <td>NaN</td>\n",
       "      <td>NaN</td>\n",
       "      <td>NaN</td>\n",
       "      <td>NaN</td>\n",
       "    </tr>\n",
       "    <tr>\n",
       "      <th>yr</th>\n",
       "      <td>NaN</td>\n",
       "      <td>NaN</td>\n",
       "      <td>NaN</td>\n",
       "      <td>NaN</td>\n",
       "      <td>NaN</td>\n",
       "      <td>NaN</td>\n",
       "      <td>NaN</td>\n",
       "      <td>NaN</td>\n",
       "      <td>NaN</td>\n",
       "      <td>NaN</td>\n",
       "      <td>NaN</td>\n",
       "      <td>NaN</td>\n",
       "      <td>NaN</td>\n",
       "      <td>NaN</td>\n",
       "      <td>NaN</td>\n",
       "      <td>NaN</td>\n",
       "    </tr>\n",
       "    <tr>\n",
       "      <th>mnth</th>\n",
       "      <td>0.802477</td>\n",
       "      <td>0.983870</td>\n",
       "      <td>NaN</td>\n",
       "      <td>NaN</td>\n",
       "      <td>1.000000</td>\n",
       "      <td>-0.025646</td>\n",
       "      <td>-0.105600</td>\n",
       "      <td>0.034710</td>\n",
       "      <td>0.014061</td>\n",
       "      <td>0.159660</td>\n",
       "      <td>0.192216</td>\n",
       "      <td>0.066587</td>\n",
       "      <td>-0.029383</td>\n",
       "      <td>0.016691</td>\n",
       "      <td>0.086955</td>\n",
       "      <td>0.088577</td>\n",
       "    </tr>\n",
       "    <tr>\n",
       "      <th>hr</th>\n",
       "      <td>0.000060</td>\n",
       "      <td>-0.025773</td>\n",
       "      <td>NaN</td>\n",
       "      <td>NaN</td>\n",
       "      <td>-0.025646</td>\n",
       "      <td>1.000000</td>\n",
       "      <td>-0.005753</td>\n",
       "      <td>0.007531</td>\n",
       "      <td>-0.055802</td>\n",
       "      <td>0.203512</td>\n",
       "      <td>0.148524</td>\n",
       "      <td>-0.194853</td>\n",
       "      <td>0.116640</td>\n",
       "      <td>0.289977</td>\n",
       "      <td>0.385569</td>\n",
       "      <td>0.384647</td>\n",
       "    </tr>\n",
       "    <tr>\n",
       "      <th>holiday</th>\n",
       "      <td>-0.063013</td>\n",
       "      <td>-0.098936</td>\n",
       "      <td>NaN</td>\n",
       "      <td>NaN</td>\n",
       "      <td>-0.105600</td>\n",
       "      <td>-0.005753</td>\n",
       "      <td>1.000000</td>\n",
       "      <td>-0.148682</td>\n",
       "      <td>0.165443</td>\n",
       "      <td>-0.059728</td>\n",
       "      <td>-0.072091</td>\n",
       "      <td>-0.037542</td>\n",
       "      <td>-0.001111</td>\n",
       "      <td>0.022078</td>\n",
       "      <td>-0.054245</td>\n",
       "      <td>-0.050995</td>\n",
       "    </tr>\n",
       "    <tr>\n",
       "      <th>weekday</th>\n",
       "      <td>0.008157</td>\n",
       "      <td>0.028831</td>\n",
       "      <td>NaN</td>\n",
       "      <td>NaN</td>\n",
       "      <td>0.034710</td>\n",
       "      <td>0.007531</td>\n",
       "      <td>-0.148682</td>\n",
       "      <td>1.000000</td>\n",
       "      <td>0.060007</td>\n",
       "      <td>-0.081776</td>\n",
       "      <td>-0.051646</td>\n",
       "      <td>0.062469</td>\n",
       "      <td>-0.056754</td>\n",
       "      <td>-0.027375</td>\n",
       "      <td>0.021882</td>\n",
       "      <td>0.012053</td>\n",
       "    </tr>\n",
       "    <tr>\n",
       "      <th>weathersit</th>\n",
       "      <td>0.030439</td>\n",
       "      <td>0.020457</td>\n",
       "      <td>NaN</td>\n",
       "      <td>NaN</td>\n",
       "      <td>0.014061</td>\n",
       "      <td>-0.055802</td>\n",
       "      <td>0.165443</td>\n",
       "      <td>0.060007</td>\n",
       "      <td>1.000000</td>\n",
       "      <td>0.106041</td>\n",
       "      <td>0.136962</td>\n",
       "      <td>0.539402</td>\n",
       "      <td>-0.177655</td>\n",
       "      <td>-0.107067</td>\n",
       "      <td>-0.123816</td>\n",
       "      <td>-0.130129</td>\n",
       "    </tr>\n",
       "    <tr>\n",
       "      <th>temp</th>\n",
       "      <td>0.023406</td>\n",
       "      <td>0.125153</td>\n",
       "      <td>NaN</td>\n",
       "      <td>NaN</td>\n",
       "      <td>0.159660</td>\n",
       "      <td>0.203512</td>\n",
       "      <td>-0.059728</td>\n",
       "      <td>-0.081776</td>\n",
       "      <td>0.106041</td>\n",
       "      <td>1.000000</td>\n",
       "      <td>0.909940</td>\n",
       "      <td>0.080720</td>\n",
       "      <td>0.122625</td>\n",
       "      <td>0.463681</td>\n",
       "      <td>0.179582</td>\n",
       "      <td>0.237303</td>\n",
       "    </tr>\n",
       "    <tr>\n",
       "      <th>atemp</th>\n",
       "      <td>0.077546</td>\n",
       "      <td>0.166261</td>\n",
       "      <td>NaN</td>\n",
       "      <td>NaN</td>\n",
       "      <td>0.192216</td>\n",
       "      <td>0.148524</td>\n",
       "      <td>-0.072091</td>\n",
       "      <td>-0.051646</td>\n",
       "      <td>0.136962</td>\n",
       "      <td>0.909940</td>\n",
       "      <td>1.000000</td>\n",
       "      <td>0.192440</td>\n",
       "      <td>-0.212119</td>\n",
       "      <td>0.405069</td>\n",
       "      <td>0.144375</td>\n",
       "      <td>0.198405</td>\n",
       "    </tr>\n",
       "    <tr>\n",
       "      <th>hum</th>\n",
       "      <td>0.062116</td>\n",
       "      <td>0.071512</td>\n",
       "      <td>NaN</td>\n",
       "      <td>NaN</td>\n",
       "      <td>0.066587</td>\n",
       "      <td>-0.194853</td>\n",
       "      <td>-0.037542</td>\n",
       "      <td>0.062469</td>\n",
       "      <td>0.539402</td>\n",
       "      <td>0.080720</td>\n",
       "      <td>0.192440</td>\n",
       "      <td>1.000000</td>\n",
       "      <td>-0.385550</td>\n",
       "      <td>-0.294610</td>\n",
       "      <td>-0.244180</td>\n",
       "      <td>-0.265429</td>\n",
       "    </tr>\n",
       "    <tr>\n",
       "      <th>windspeed</th>\n",
       "      <td>-0.057837</td>\n",
       "      <td>-0.041106</td>\n",
       "      <td>NaN</td>\n",
       "      <td>NaN</td>\n",
       "      <td>-0.029383</td>\n",
       "      <td>0.116640</td>\n",
       "      <td>-0.001111</td>\n",
       "      <td>-0.056754</td>\n",
       "      <td>-0.177655</td>\n",
       "      <td>0.122625</td>\n",
       "      <td>-0.212119</td>\n",
       "      <td>-0.385550</td>\n",
       "      <td>1.000000</td>\n",
       "      <td>0.112992</td>\n",
       "      <td>0.102194</td>\n",
       "      <td>0.111926</td>\n",
       "    </tr>\n",
       "    <tr>\n",
       "      <th>casual</th>\n",
       "      <td>0.007046</td>\n",
       "      <td>0.012110</td>\n",
       "      <td>NaN</td>\n",
       "      <td>NaN</td>\n",
       "      <td>0.016691</td>\n",
       "      <td>0.289977</td>\n",
       "      <td>0.022078</td>\n",
       "      <td>-0.027375</td>\n",
       "      <td>-0.107067</td>\n",
       "      <td>0.463681</td>\n",
       "      <td>0.405069</td>\n",
       "      <td>-0.294610</td>\n",
       "      <td>0.112992</td>\n",
       "      <td>1.000000</td>\n",
       "      <td>0.429604</td>\n",
       "      <td>0.526277</td>\n",
       "    </tr>\n",
       "    <tr>\n",
       "      <th>registered</th>\n",
       "      <td>0.088162</td>\n",
       "      <td>0.088481</td>\n",
       "      <td>NaN</td>\n",
       "      <td>NaN</td>\n",
       "      <td>0.086955</td>\n",
       "      <td>0.385569</td>\n",
       "      <td>-0.054245</td>\n",
       "      <td>0.021882</td>\n",
       "      <td>-0.123816</td>\n",
       "      <td>0.179582</td>\n",
       "      <td>0.144375</td>\n",
       "      <td>-0.244180</td>\n",
       "      <td>0.102194</td>\n",
       "      <td>0.429604</td>\n",
       "      <td>1.000000</td>\n",
       "      <td>0.989327</td>\n",
       "    </tr>\n",
       "    <tr>\n",
       "      <th>cnt</th>\n",
       "      <td>0.086761</td>\n",
       "      <td>0.089176</td>\n",
       "      <td>NaN</td>\n",
       "      <td>NaN</td>\n",
       "      <td>0.088577</td>\n",
       "      <td>0.384647</td>\n",
       "      <td>-0.050995</td>\n",
       "      <td>0.012053</td>\n",
       "      <td>-0.130129</td>\n",
       "      <td>0.237303</td>\n",
       "      <td>0.198405</td>\n",
       "      <td>-0.265429</td>\n",
       "      <td>0.111926</td>\n",
       "      <td>0.526277</td>\n",
       "      <td>0.989327</td>\n",
       "      <td>1.000000</td>\n",
       "    </tr>\n",
       "  </tbody>\n",
       "</table>\n",
       "</div>"
      ],
      "text/plain": [
       "             instant    dteday  season  yr      mnth        hr   holiday  \\\n",
       "instant     1.000000  0.896134     NaN NaN  0.802477  0.000060 -0.063013   \n",
       "dteday      0.896134  1.000000     NaN NaN  0.983870 -0.025773 -0.098936   \n",
       "season           NaN       NaN     NaN NaN       NaN       NaN       NaN   \n",
       "yr               NaN       NaN     NaN NaN       NaN       NaN       NaN   \n",
       "mnth        0.802477  0.983870     NaN NaN  1.000000 -0.025646 -0.105600   \n",
       "hr          0.000060 -0.025773     NaN NaN -0.025646  1.000000 -0.005753   \n",
       "holiday    -0.063013 -0.098936     NaN NaN -0.105600 -0.005753  1.000000   \n",
       "weekday     0.008157  0.028831     NaN NaN  0.034710  0.007531 -0.148682   \n",
       "weathersit  0.030439  0.020457     NaN NaN  0.014061 -0.055802  0.165443   \n",
       "temp        0.023406  0.125153     NaN NaN  0.159660  0.203512 -0.059728   \n",
       "atemp       0.077546  0.166261     NaN NaN  0.192216  0.148524 -0.072091   \n",
       "hum         0.062116  0.071512     NaN NaN  0.066587 -0.194853 -0.037542   \n",
       "windspeed  -0.057837 -0.041106     NaN NaN -0.029383  0.116640 -0.001111   \n",
       "casual      0.007046  0.012110     NaN NaN  0.016691  0.289977  0.022078   \n",
       "registered  0.088162  0.088481     NaN NaN  0.086955  0.385569 -0.054245   \n",
       "cnt         0.086761  0.089176     NaN NaN  0.088577  0.384647 -0.050995   \n",
       "\n",
       "             weekday  weathersit      temp     atemp       hum  windspeed  \\\n",
       "instant     0.008157    0.030439  0.023406  0.077546  0.062116  -0.057837   \n",
       "dteday      0.028831    0.020457  0.125153  0.166261  0.071512  -0.041106   \n",
       "season           NaN         NaN       NaN       NaN       NaN        NaN   \n",
       "yr               NaN         NaN       NaN       NaN       NaN        NaN   \n",
       "mnth        0.034710    0.014061  0.159660  0.192216  0.066587  -0.029383   \n",
       "hr          0.007531   -0.055802  0.203512  0.148524 -0.194853   0.116640   \n",
       "holiday    -0.148682    0.165443 -0.059728 -0.072091 -0.037542  -0.001111   \n",
       "weekday     1.000000    0.060007 -0.081776 -0.051646  0.062469  -0.056754   \n",
       "weathersit  0.060007    1.000000  0.106041  0.136962  0.539402  -0.177655   \n",
       "temp       -0.081776    0.106041  1.000000  0.909940  0.080720   0.122625   \n",
       "atemp      -0.051646    0.136962  0.909940  1.000000  0.192440  -0.212119   \n",
       "hum         0.062469    0.539402  0.080720  0.192440  1.000000  -0.385550   \n",
       "windspeed  -0.056754   -0.177655  0.122625 -0.212119 -0.385550   1.000000   \n",
       "casual     -0.027375   -0.107067  0.463681  0.405069 -0.294610   0.112992   \n",
       "registered  0.021882   -0.123816  0.179582  0.144375 -0.244180   0.102194   \n",
       "cnt         0.012053   -0.130129  0.237303  0.198405 -0.265429   0.111926   \n",
       "\n",
       "              casual  registered       cnt  \n",
       "instant     0.007046    0.088162  0.086761  \n",
       "dteday      0.012110    0.088481  0.089176  \n",
       "season           NaN         NaN       NaN  \n",
       "yr               NaN         NaN       NaN  \n",
       "mnth        0.016691    0.086955  0.088577  \n",
       "hr          0.289977    0.385569  0.384647  \n",
       "holiday     0.022078   -0.054245 -0.050995  \n",
       "weekday    -0.027375    0.021882  0.012053  \n",
       "weathersit -0.107067   -0.123816 -0.130129  \n",
       "temp        0.463681    0.179582  0.237303  \n",
       "atemp       0.405069    0.144375  0.198405  \n",
       "hum        -0.294610   -0.244180 -0.265429  \n",
       "windspeed   0.112992    0.102194  0.111926  \n",
       "casual      1.000000    0.429604  0.526277  \n",
       "registered  0.429604    1.000000  0.989327  \n",
       "cnt         0.526277    0.989327  1.000000  "
      ]
     },
     "execution_count": 125,
     "metadata": {},
     "output_type": "execute_result"
    }
   ],
   "source": [
    "final_df.corr()"
   ]
  },
  {
   "cell_type": "code",
   "execution_count": 126,
   "id": "4ba15386",
   "metadata": {},
   "outputs": [
    {
     "data": {
      "text/plain": [
       "array([0, 1])"
      ]
     },
     "execution_count": 126,
     "metadata": {},
     "output_type": "execute_result"
    }
   ],
   "source": [
    "final_df['holiday'].unique()"
   ]
  },
  {
   "cell_type": "code",
   "execution_count": 127,
   "id": "c9f2fd58",
   "metadata": {},
   "outputs": [
    {
     "data": {
      "text/plain": [
       "holiday\n",
       "0    976\n",
       "1     24\n",
       "Name: count, dtype: int64"
      ]
     },
     "execution_count": 127,
     "metadata": {},
     "output_type": "execute_result"
    }
   ],
   "source": [
    "final_df['holiday'].value_counts()"
   ]
  },
  {
   "cell_type": "code",
   "execution_count": 128,
   "id": "70d0549b",
   "metadata": {},
   "outputs": [
    {
     "data": {
      "text/plain": [
       "array([ 20.   ,  15.   ,   8.   ,   3.   ,   2.   ,   5.   ,  34.   ,\n",
       "        55.   ,  64.   ,  78.   ,  65.   ,  99.   , 120.   , 107.   ,\n",
       "        91.   ,  68.   ,  58.   ,  43.   ,  36.   ,  32.   ,  33.   ,\n",
       "        29.   ,  11.   ,   1.   ,  12.   ,  38.   ,  59.   ,  97.   ,\n",
       "        84.   , 122.   , 109.   , 123.   ,  77.   ,  28.   ,  21.   ,\n",
       "         7.   ,  37.   ,  72.   , 185.   , 112.   ,  69.   ,  48.   ,\n",
       "        54.   ,  86.   ,  44.   , 161.   , 156.   , 111.   ,  56.   ,\n",
       "        17.   ,  22.   ,  52.   , 135.   , 116.   ,  47.   ,  51.   ,\n",
       "       176.   , 168.   , 108.   ,  74.   ,  16.   ,   4.   ,  18.   ,\n",
       "        49.   , 155.   ,  61.   ,  75.   ,  63.   ,  76.   , 103.   ,\n",
       "       190.   , 182.   ,  40.   ,  39.   ,  87.   , 188.   , 133.   ,\n",
       "        60.   , 175.   , 147.   ,  96.   ,  41.   ,  13.   , 194.125,\n",
       "       127.   ,  82.   ,  90.   ,  71.   ,  46.   ,  31.   ,   9.   ,\n",
       "        10.   ,  83.   ,  45.   ,  23.   ,  89.   , 117.   , 174.   ,\n",
       "       157.   , 121.   ,  26.   ,  27.   ,  62.   ,  30.   ,  95.   ,\n",
       "       118.   ,  66.   ,  50.   , 114.   , 128.   ,  88.   ,  25.   ,\n",
       "       100.   , 152.   , 101.   ,  79.   , 166.   , 170.   ,   6.   ,\n",
       "       178.   ,  35.   ,  80.   , 165.   , 160.   ,  14.   ,  24.   ,\n",
       "       140.   , 110.   , 125.   ,  53.   , 145.   , 137.   , 105.   ,\n",
       "       154.   , 162.   , 134.   ,  98.   , 149.   ,  94.   , 106.   ,\n",
       "        93.   ,  67.   ,  70.   ,  42.   ,  57.   , 115.   , 169.   ,\n",
       "       132.   ,  19.   , 172.   , 163.   ,  73.   , 102.   ,  92.   ,\n",
       "       130.   , 136.   ,  81.   , 139.   , 144.   , 158.   , 159.   ,\n",
       "       129.   , 104.   , 113.   , 143.   , 126.   , 153.   , 146.   ,\n",
       "       119.   ])"
      ]
     },
     "execution_count": 128,
     "metadata": {},
     "output_type": "execute_result"
    }
   ],
   "source": [
    "final_df['cnt'].unique()"
   ]
  },
  {
   "cell_type": "code",
   "execution_count": 129,
   "id": "7f32145b",
   "metadata": {},
   "outputs": [
    {
     "data": {
      "text/plain": [
       "cnt\n",
       "1.0      45\n",
       "2.0      38\n",
       "3.0      34\n",
       "175.0    25\n",
       "5.0      19\n",
       "         ..\n",
       "140.0     1\n",
       "145.0     1\n",
       "149.0     1\n",
       "115.0     1\n",
       "119.0     1\n",
       "Name: count, Length: 169, dtype: int64"
      ]
     },
     "execution_count": 129,
     "metadata": {},
     "output_type": "execute_result"
    }
   ],
   "source": [
    "final_df['cnt'].value_counts()"
   ]
  },
  {
   "cell_type": "code",
   "execution_count": 130,
   "id": "cff08127",
   "metadata": {},
   "outputs": [
    {
     "data": {
      "text/plain": [
       "<Axes: >"
      ]
     },
     "execution_count": 130,
     "metadata": {},
     "output_type": "execute_result"
    },
    {
     "data": {
      "image/png": "[encoded data removed]",
      "text/plain": [
       "<Figure size 640x480 with 2 Axes>"
      ]
     },
     "metadata": {},
     "output_type": "display_data"
    }
   ],
   "source": [
    "sns.heatmap(final_df)"
   ]
  },
  {
   "cell_type": "code",
   "execution_count": 131,
   "id": "7f2f5904",
   "metadata": {},
   "outputs": [],
   "source": [
    "final_df.to_excel(\"output.xlsx\" , index = False)"
   ]
  },
  {
   "cell_type": "code",
   "execution_count": null,
   "id": "465a4677",
   "metadata": {},
   "outputs": [],
   "source": [
    "!git init\n",
    "!git remote add origin https://github.com/suhanasrivastava/Project2_EDA.git\n",
    "!git add ."
   ]
  }
 ],
 "metadata": {
  "kernelspec": {
   "display_name": "Python 3 (ipykernel)",
   "language": "python",
   "name": "python3"
  },
  "language_info": {
   "codemirror_mode": {
    "name": "ipython",
    "version": 3
   },
   "file_extension": ".py",
   "mimetype": "text/x-python",
   "name": "python",
   "nbconvert_exporter": "python",
   "pygments_lexer": "ipython3",
   "version": "3.11.5"
  }
 },
 "nbformat": 4,
 "nbformat_minor": 5
}
